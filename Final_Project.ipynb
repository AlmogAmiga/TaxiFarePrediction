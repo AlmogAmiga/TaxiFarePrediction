{
 "cells": [
  {
   "cell_type": "markdown",
   "metadata": {},
   "source": [
    "# Advanced Technologies For Machine Learning\n",
    "## Final Project - Uber Ride High Fare Predictions\n",
    "#### Almog Amiga & Omri Kireev\n"
   ]
  },
  {
   "cell_type": "markdown",
   "metadata": {},
   "source": [
    "## Getting data from kaggle"
   ]
  },
  {
   "cell_type": "code",
   "execution_count": 3,
   "metadata": {},
   "outputs": [
    {
     "name": "stdout",
     "output_type": "stream",
     "text": [
      "Warning: Your Kaggle API key is readable by other users on this system! To fix this, you can run 'chmod 600 /home/hadoop/.kaggle/kaggle.json'\n",
      "Downloading afeka_train.csv.zip to /home/hadoop/.kaggle\n",
      " 99%|████████████████████████████████████████▍| 455M/461M [00:04<00:00, 135MB/s]\n",
      "100%|█████████████████████████████████████████| 461M/461M [00:04<00:00, 107MB/s]\n",
      "Archive:  afeka_train.csv.zip\n",
      "  inflating: afeka_train.csv         \n",
      "Warning: Your Kaggle API key is readable by other users on this system! To fix this, you can run 'chmod 600 /home/hadoop/.kaggle/kaggle.json'\n",
      "Downloading afeka_test.csv to /home/hadoop/.kaggle\n",
      "  0%|                                                | 0.00/722k [00:00<?, ?B/s]\n",
      "100%|█████████████████████████████████████████| 722k/722k [00:00<00:00, 140MB/s]\n",
      "unzip:  cannot find or open afeka_test.csv.zip, afeka_test.csv.zip.zip or afeka_test.csv.zip.ZIP.\n"
     ]
    }
   ],
   "source": [
    "#Run this once\n",
    "!kaggle competitions download -f afeka_train.csv afeka-big-data-ml-competition\n",
    "!unzip afeka_train.csv.zip\n",
    "!kaggle competitions download -f afeka_test.csv afeka-big-data-ml-competition\n",
    "!unzip afeka_test.csv.zip"
   ]
  },
  {
   "cell_type": "markdown",
   "metadata": {},
   "source": [
    "# Notebook run of 1 Worker"
   ]
  },
  {
   "cell_type": "code",
   "execution_count": 2,
   "metadata": {},
   "outputs": [
    {
     "name": "stdout",
     "output_type": "stream",
     "text": [
      "CPU times: user 79.9 ms, sys: 7.3 ms, total: 87.2 ms\n",
      "Wall time: 4.96 s\n"
     ]
    }
   ],
   "source": [
    "%%time\n",
    "import os\n",
    "os.environ['PYSPARK_PYTHON'] = '/usr/bin/python3'\n",
    "os.environ['PYSPARK_DRIVER_PYTHON'] = '/usr/bin/python3'\n",
    "from pyspark.sql.types import StructType, StructField\n",
    "from pyspark.sql.types import DoubleType, IntegerType, StringType, FloatType, ByteType, DateType, TimestampType\n",
    "from pyspark.sql import SparkSession, SQLContext\n",
    "from pyspark import SparkConf, SparkContext\n",
    "\n",
    "\n",
    "conf = SparkConf()\n",
    "conf.set(\"spark.executor.memory\", \"16g\")\n",
    "conf.set(\"spark.driver.memory\", \"16g\")\n",
    "spark_context = SparkContext.getOrCreate(conf)\n",
    "spark = SparkSession(spark_context)\n",
    "\n",
    "\n",
    "spark.conf.set('spark.sql.session.timeZone', 'UTC')\n",
    "\n",
    "schema = StructType([\n",
    "    StructField(\"key\", IntegerType()),\n",
    "    StructField(\"fare_amount\", FloatType()),\n",
    "    StructField(\"pickup_datetime\", TimestampType()), # Will later extract date and time\n",
    "    StructField(\"pickup_longitude\", FloatType()),\n",
    "    StructField(\"pickup_latitude\", FloatType()),\n",
    "    StructField(\"dropoff_longitude\", FloatType()),\n",
    "    StructField(\"dropoff_latitude\", FloatType()),\n",
    "    StructField(\"passenger_count\", ByteType())\n",
    "])\n",
    "\n",
    "fileToRead = 'afeka_train.csv'\n",
    "#fileToRead = '100k_afeka_train.csv'\n",
    "\n",
    "data = spark.read.format(\"csv\").option(\"header\", \"true\").schema(schema).option(\"TimeStampFormat\", \"yyyy-mm-dd hh:mm:ss\").load(fileToRead)"
   ]
  },
  {
   "cell_type": "markdown",
   "metadata": {},
   "source": [
    "## Filter out the unneeded columns, keeping only the ones we want to use"
   ]
  },
  {
   "cell_type": "code",
   "execution_count": 2,
   "metadata": {},
   "outputs": [
    {
     "name": "stdout",
     "output_type": "stream",
     "text": [
      "+-------+-----------------+------------------+------------------+------------------+------------------+-----------------+------------------+\n",
      "|summary|              key|       fare_amount|  pickup_longitude|   pickup_latitude| dropoff_longitude| dropoff_latitude|   passenger_count|\n",
      "+-------+-----------------+------------------+------------------+------------------+------------------+-----------------+------------------+\n",
      "|  count|         19990000|          19990000|          19990000|          19990000|          19989863|         19989863|          19989982|\n",
      "|   mean|        9995000.5| 11.34479973617804|-72.51207731363243|39.921070113225795|-72.51080146093182| 39.9203144125956|1.6856535438601195|\n",
      "| stddev|5770616.084887875|16.915900798984428|12.916451525408974| 9.690173781854165|12.773569816080057|9.683144138271158|1.3093239837992636|\n",
      "|    min|                1|            -300.0|        -3414.1328|        -3478.2412|        -3442.0247|       -3547.8867|                 0|\n",
      "|    max|         19990000|          61550.86|         3456.1377|         3406.0083|         3453.4248|        3407.3916|                34|\n",
      "+-------+-----------------+------------------+------------------+------------------+------------------+-----------------+------------------+\n",
      "\n",
      "CPU times: user 4.17 ms, sys: 17 µs, total: 4.19 ms\n",
      "Wall time: 13.9 s\n"
     ]
    }
   ],
   "source": [
    "%%time\n",
    "data.describe().show()"
   ]
  },
  {
   "cell_type": "markdown",
   "metadata": {},
   "source": [
    "### Function to calculate distance between two coordinates"
   ]
  },
  {
   "cell_type": "code",
   "execution_count": 3,
   "metadata": {},
   "outputs": [],
   "source": [
    "from math import cos, asin, sqrt, pi, sin, atan2, radians\n",
    "\n",
    "def haversine_distance(lat1, lon1, lat2, lon2):\n",
    "    # approximate radius of earth in km\n",
    "    R = 6373.0\n",
    "    \n",
    "    # Getting latitude and longtitude of both points\n",
    "    lat1 = radians(lat1)\n",
    "    lon1 = radians(lon1)\n",
    "    lat2 = radians(lat2)\n",
    "    lon2 = radians(lon2)\n",
    "\n",
    "    dlon = lon2 - lon1\n",
    "    dlat = lat2 - lat1\n",
    "\n",
    "    a = sin(dlat / 2)**2 + cos(lat1) * cos(lat2) * sin(dlon / 2)**2\n",
    "    c = 2 * atan2(sqrt(a), sqrt(1 - a))\n",
    "\n",
    "    distance = R * c # Distance in KM\n",
    "    return distance\n",
    "\n",
    "def getEuclidean_distance(pickup_long, pickup_lat, dropoff_long, dropoff_lat):\n",
    "    return sqrt(((pickup_long-dropoff_long)**2) + ((pickup_lat-dropoff_lat)**2))\n",
    "\n",
    "def get_manhattan_dist(pickup_long, pickup_lat, dropoff_long, dropoff_lat):\n",
    "    return (abs(dropoff_long - pickup_long) + abs(dropoff_lat - pickup_lat))\n",
    "\n",
    "def select_within_boundingbox(df):\n",
    "    BB = (-74.5, -72.8, 40.5, 41.8)\n",
    "    return (df.pickup_longitude >= BB[0]) & (df.pickup_longitude <= BB[1]) & \\\n",
    "           (df.pickup_latitude >= BB[2]) & (df.pickup_latitude <= BB[3]) & \\\n",
    "           (df.dropoff_longitude >= BB[0]) & (df.dropoff_longitude <= BB[1]) & \\\n",
    "           (df.dropoff_latitude >= BB[2]) & (df.dropoff_latitude <= BB[3])"
   ]
  },
  {
   "cell_type": "markdown",
   "metadata": {},
   "source": [
    "### Dropping Key Column"
   ]
  },
  {
   "cell_type": "code",
   "execution_count": 4,
   "metadata": {},
   "outputs": [
    {
     "name": "stdout",
     "output_type": "stream",
     "text": [
      "+-----------+-------------------+----------------+---------------+-----------------+----------------+---------------+\n",
      "|fare_amount|    pickup_datetime|pickup_longitude|pickup_latitude|dropoff_longitude|dropoff_latitude|passenger_count|\n",
      "+-----------+-------------------+----------------+---------------+-----------------+----------------+---------------+\n",
      "|        8.5|2010-03-30 19:27:00|       -73.96539|      40.768574|       -73.998184|       40.761074|              1|\n",
      "|      35.47|2010-08-10 20:02:03|      -73.967354|      40.769295|       -73.967285|       40.802975|              1|\n",
      "|        6.1|2011-03-13 13:24:00|       -73.96884|      40.758278|       -73.961395|       40.768566|              1|\n",
      "|        9.7|2011-06-11 19:45:14|       -73.98218|      40.774796|        -73.95431|        40.78315|              1|\n",
      "|        7.7|2011-12-03 13:16:02|        -73.9778|       40.74228|       -73.998634|       40.734917|              1|\n",
      "|      57.33|2013-03-29 14:35:36|       -74.00303|      40.747368|        -73.78937|       40.654743|              2|\n",
      "|        7.5|2013-04-21 22:33:38|      -73.964645|      40.760117|        -73.98311|       40.734978|              1|\n",
      "|        9.7|2010-07-14 15:30:42|       -73.96983|      40.757874|       -73.991295|        40.75013|              1|\n",
      "|        3.7|2010-12-28 23:06:05|      -73.990974|       40.72383|        -73.98589|        40.72693|              1|\n",
      "|        4.5|2011-06-17 20:49:00|      -74.002266|       40.72671|        -74.00374|        40.72248|              5|\n",
      "|        4.9|2012-05-24 19:46:00|       -73.98645|       40.75191|        -73.98438|       40.760754|              1|\n",
      "|        7.7|2012-08-18 13:19:00|       -73.95225|       40.76903|       -73.975746|        40.75233|              1|\n",
      "|       20.0|2013-02-08 00:13:00|       -73.99183|      40.735313|         -73.9524|        40.79915|              1|\n",
      "|        5.5|2013-12-10 17:10:32|       -73.96161|       40.77158|       -73.954865|        40.77789|              1|\n",
      "|        6.5|2014-08-18 17:01:00|       -73.99293|       40.75801|         -74.0056|        40.73947|              1|\n",
      "|        9.5|2015-04-24 17:42:18|       -74.00079|      40.716717|        -74.01393|        40.71532|              5|\n",
      "|        7.7|2012-09-03 01:39:17|      -73.996216|      40.742603|         -73.9973|       40.763718|              1|\n",
      "|       13.5|2013-09-27 15:42:56|       -73.98968|       40.74156|        -73.97103|       40.751522|              1|\n",
      "|       10.5|2014-09-21 17:58:29|       -73.96529|      40.775135|        -73.98337|       40.758884|              1|\n",
      "|       25.5|2015-05-17 20:31:04|       -73.95599|       40.76384|        -73.91965|        40.70028|              1|\n",
      "+-----------+-------------------+----------------+---------------+-----------------+----------------+---------------+\n",
      "only showing top 20 rows\n",
      "\n",
      "CPU times: user 3.13 ms, sys: 0 ns, total: 3.13 ms\n",
      "Wall time: 1.94 s\n"
     ]
    }
   ],
   "source": [
    "%%time\n",
    "data = data.drop(data.key)\n",
    "data.show()"
   ]
  },
  {
   "cell_type": "markdown",
   "metadata": {},
   "source": [
    "### Clearing any missing data"
   ]
  },
  {
   "cell_type": "code",
   "execution_count": 5,
   "metadata": {},
   "outputs": [
    {
     "name": "stdout",
     "output_type": "stream",
     "text": [
      "Before  19990000\n",
      "After  19989845\n",
      "155\n",
      "CPU times: user 21.2 ms, sys: 0 ns, total: 21.2 ms\n",
      "Wall time: 1min 33s\n"
     ]
    }
   ],
   "source": [
    "%%time\n",
    "before = data.count()\n",
    "print(\"Before \", before)\n",
    "data = data.dropna()\n",
    "after = data.count()\n",
    "print(\"After \", after)\n",
    "print(before - after)"
   ]
  },
  {
   "cell_type": "markdown",
   "metadata": {},
   "source": [
    "### Adding columns -- will be used as future features"
   ]
  },
  {
   "cell_type": "code",
   "execution_count": 6,
   "metadata": {},
   "outputs": [
    {
     "name": "stdout",
     "output_type": "stream",
     "text": [
      "+-----------+-------------------+----------------+---------------+-----------------+----------------+---------------+------------+-----------+--------------+---------+----+-----+-------------------+-------+\n",
      "|fare_amount|    pickup_datetime|pickup_longitude|pickup_latitude|dropoff_longitude|dropoff_latitude|passenger_count|    distance|day_of_week|numerical_time|high_fare|year|month|   month_completion|isInBox|\n",
      "+-----------+-------------------+----------------+---------------+-----------------+----------------+---------------+------------+-----------+--------------+---------+----+-----+-------------------+-------+\n",
      "|        8.5|2010-03-30 19:27:00|       -73.96539|      40.768574|       -73.998184|       40.761074|              1| 0.033637837|          3|         70020|        0|2010|    3|  0.967741935483871|      1|\n",
      "|      35.47|2010-08-10 20:02:03|      -73.967354|      40.769295|       -73.967285|       40.802975|              1| 0.033680033|          3|         72123|        1|2010|    8| 0.3225806451612903|      1|\n",
      "|        6.1|2011-03-13 13:24:00|       -73.96884|      40.758278|       -73.961395|       40.768566|              1|   0.0127002|          1|         48240|        0|2011|    3|0.41935483870967744|      1|\n",
      "|        9.7|2011-06-11 19:45:14|       -73.98218|      40.774796|        -73.95431|        40.78315|              1| 0.029095348|          7|         71114|        0|2011|    6|0.36666666666666664|      1|\n",
      "|        7.7|2011-12-03 13:16:02|        -73.9778|       40.74228|       -73.998634|       40.734917|              1| 0.022098375|          7|         47762|        0|2011|   12| 0.0967741935483871|      1|\n",
      "|      57.33|2013-03-29 14:35:36|       -74.00303|      40.747368|        -73.78937|       40.654743|              2|  0.23287429|          6|         52536|        1|2013|    3| 0.9354838709677419|      1|\n",
      "|        7.5|2013-04-21 22:33:38|      -73.964645|      40.760117|        -73.98311|       40.734978|              1| 0.031190533|          1|         81218|        0|2013|    4|                0.7|      1|\n",
      "|        9.7|2010-07-14 15:30:42|       -73.96983|      40.757874|       -73.991295|        40.75013|              1| 0.022815837|          4|         55842|        0|2010|    7|0.45161290322580644|      1|\n",
      "|        3.7|2010-12-28 23:06:05|      -73.990974|       40.72383|        -73.98589|        40.72693|              1|0.0059508886|          3|         83165|        0|2010|   12| 0.9032258064516129|      1|\n",
      "|        4.5|2011-06-17 20:49:00|      -74.002266|       40.72671|        -74.00374|        40.72248|              5| 0.004479431|          6|         74940|        0|2011|    6| 0.5666666666666667|      1|\n",
      "|        4.9|2012-05-24 19:46:00|       -73.98645|       40.75191|        -73.98438|       40.760754|              1| 0.009080973|          5|         71160|        0|2012|    5| 0.7741935483870968|      1|\n",
      "|        7.7|2012-08-18 13:19:00|       -73.95225|       40.76903|       -73.975746|        40.75233|              1| 0.028828736|          7|         47940|        0|2012|    8| 0.5806451612903226|      1|\n",
      "|       20.0|2013-02-08 00:13:00|       -73.99183|      40.735313|         -73.9524|        40.79915|              1|  0.07503032|          6|           780|        1|2013|    2| 0.2857142857142857|      1|\n",
      "|        5.5|2013-12-10 17:10:32|       -73.96161|       40.77158|       -73.954865|        40.77789|              1| 0.009235618|          3|         61832|        0|2013|   12| 0.3225806451612903|      1|\n",
      "|        6.5|2014-08-18 17:01:00|       -73.99293|       40.75801|         -74.0056|        40.73947|              1| 0.022456642|          2|         61260|        0|2014|    8| 0.5806451612903226|      1|\n",
      "|        9.5|2015-04-24 17:42:18|       -74.00079|      40.716717|        -74.01393|        40.71532|              5| 0.013211796|          6|         63738|        0|2015|    4|                0.8|      1|\n",
      "|        7.7|2012-09-03 01:39:17|      -73.996216|      40.742603|         -73.9973|       40.763718|              1| 0.021142125|          2|          5957|        0|2012|    9|                0.1|      1|\n",
      "|       13.5|2013-09-27 15:42:56|       -73.98968|       40.74156|        -73.97103|       40.751522|              1| 0.021139711|          6|         56576|        1|2013|    9|                0.9|      1|\n",
      "|       10.5|2014-09-21 17:58:29|       -73.96529|      40.775135|        -73.98337|       40.758884|              1| 0.024311086|          1|         64709|        1|2014|    9|                0.7|      1|\n",
      "|       25.5|2015-05-17 20:31:04|       -73.95599|       40.76384|        -73.91965|        40.70028|              1| 0.073218845|          1|         73864|        1|2015|    5| 0.5483870967741935|      1|\n",
      "+-----------+-------------------+----------------+---------------+-----------------+----------------+---------------+------------+-----------+--------------+---------+----+-----+-------------------+-------+\n",
      "only showing top 20 rows\n",
      "\n",
      "CPU times: user 21.9 ms, sys: 2.3 ms, total: 24.2 ms\n",
      "Wall time: 1.17 s\n"
     ]
    }
   ],
   "source": [
    "%%time\n",
    "\n",
    "# Calculating the distance between the pickup and dropoff\n",
    "from pyspark.sql.functions import udf\n",
    "import pyspark.sql.functions as F\n",
    "\n",
    "\n",
    "def add_cols(data, high_fare=True):\n",
    "    udf_func = udf(getEuclidean_distance,FloatType()) # Creating a 'User Defined Function' to calculate distance between two points.\n",
    "    data = data.withColumn(\"distance\", udf_func(data.pickup_latitude, data.pickup_longitude, \\\n",
    "                                         data.dropoff_latitude, data.dropoff_longitude))\n",
    "\n",
    "    #Converting the dates to week days\n",
    "    from pyspark.sql.functions import dayofweek\n",
    "    data = data.withColumn(\"day_of_week\", dayofweek(data.pickup_datetime))\n",
    "\n",
    "    #Converting hour timestap to seconds\n",
    "    from pyspark.sql.functions import col, second, minute, hour\n",
    "    data = data.withColumn(\"numerical_time\", (hour(col('pickup_datetime'))*3600 + minute(col('pickup_datetime'))*60 + second(col('pickup_datetime'))))\n",
    "\n",
    "    #Adding the high fare column\n",
    "    if high_fare is True:\n",
    "        data = data.withColumn(\"high_fare\", F.when(F.col('fare_amount') >= 10, 1).otherwise(0))\n",
    "\n",
    "    # Add year column\n",
    "    from pyspark.sql.functions import year\n",
    "    data = data.withColumn(\"year\", year(data.pickup_datetime))\n",
    "\n",
    "    # Add month column\n",
    "    from pyspark.sql.functions import month\n",
    "    data = data.withColumn(\"month\", month(data.pickup_datetime))\n",
    "\n",
    "    # Add month completion progress value (float 0-1)\n",
    "    from pyspark.sql.functions import dayofmonth, last_day\n",
    "    data = data.withColumn(\"month_completion\", dayofmonth(data.pickup_datetime) / dayofmonth(last_day(data.pickup_datetime)))\n",
    "    \n",
    "    data = data.withColumn(\"isInBox\", F.when(select_within_boundingbox(data), 1).otherwise(0))\n",
    "    return data\n",
    "\n",
    "data = add_cols(data) # Adding all cols for features\n",
    "data.show()"
   ]
  },
  {
   "cell_type": "markdown",
   "metadata": {},
   "source": [
    "### Imputing the train data. negative and out_of_bounds"
   ]
  },
  {
   "cell_type": "code",
   "execution_count": 7,
   "metadata": {},
   "outputs": [
    {
     "name": "stdout",
     "output_type": "stream",
     "text": [
      "CPU times: user 83.6 ms, sys: 15.9 ms, total: 99.6 ms\n",
      "Wall time: 3min 35s\n"
     ]
    }
   ],
   "source": [
    "%%time\n",
    "from pyspark.sql.functions import udf\n",
    "import pyspark.sql.functions as F\n",
    "\n",
    "data = data.withColumn(\"distance\", F.when(data[\"distance\"] > 5, 0).otherwise(data[\"distance\"])) # Make all outlier distance zero so we can later impute them\n",
    "\n",
    "data = data.withColumn(\"passenger_count\", F.when((data[\"passenger_count\"] <= 0) | (data[\"passenger_count\"] > 30) , \\\n",
    "                                                 0).otherwise(data[\"passenger_count\"])) \n",
    "data = data.withColumn(\"fare_amount\", F.when((data[\"fare_amount\"] <= 0) | (data[\"fare_amount\"] > 500) , \\\n",
    "                                                 0).otherwise(data[\"fare_amount\"])) \n",
    "\n",
    "data = data.withColumn(\"pickup_longitude\", F.when(data[\"isInBox\"] == 1, data['pickup_longitude']).otherwise(0))\n",
    "\n",
    "data = data.withColumn(\"dropoff_longitude\", F.when(data[\"isInBox\"] == 1, data['dropoff_longitude']).otherwise(0))\n",
    "\n",
    "data = data.withColumn(\"pickup_latitude\", F.when(data[\"isInBox\"] == 1, data['pickup_latitude']).otherwise(0))\n",
    "\n",
    "data = data.withColumn(\"dropoff_latitude\", F.when(data[\"isInBox\"] == 1, data['dropoff_latitude']).otherwise(0))\n",
    "\n",
    "imputeList = ['distance','fare_amount','pickup_longitude','dropoff_longitude','pickup_latitude','dropoff_latitude']\n",
    "data = data.drop(data.isInBox)\n",
    "\n",
    "from pyspark.ml.feature import Imputer\n",
    "imputer = Imputer(strategy='mean', missingValue=0, inputCols=imputeList, outputCols=imputeList) # Imputer for the distance\n",
    "imputer_model = imputer.fit(data)\n",
    "data = imputer_model.transform(data)\n",
    "\n",
    "data = data.withColumn(\"passenger_count\", data[\"passenger_count\"].cast(FloatType()))\n",
    "imputer = Imputer(strategy='median', missingValue=0, inputCols=['passenger_count'], outputCols=['passenger_count']) # Imputer for passenger_count\n",
    "imputer_model = imputer.fit(data)\n",
    "data = imputer_model.transform(data)\n",
    "data = data.withColumn(\"passenger_count\", data[\"passenger_count\"].cast(ByteType()))\n"
   ]
  },
  {
   "cell_type": "markdown",
   "metadata": {},
   "source": [
    "## Plotting The Data"
   ]
  },
  {
   "cell_type": "markdown",
   "metadata": {},
   "source": [
    "### Preparations Before Plotting The Data"
   ]
  },
  {
   "cell_type": "code",
   "execution_count": 6,
   "metadata": {},
   "outputs": [
    {
     "name": "stdout",
     "output_type": "stream",
     "text": [
      "Wall time: 10 s\n"
     ]
    },
    {
     "data": {
      "text/html": [
       "<div>\n",
       "<style scoped>\n",
       "    .dataframe tbody tr th:only-of-type {\n",
       "        vertical-align: middle;\n",
       "    }\n",
       "\n",
       "    .dataframe tbody tr th {\n",
       "        vertical-align: top;\n",
       "    }\n",
       "\n",
       "    .dataframe thead th {\n",
       "        text-align: right;\n",
       "    }\n",
       "</style>\n",
       "<table border=\"1\" class=\"dataframe\">\n",
       "  <thead>\n",
       "    <tr style=\"text-align: right;\">\n",
       "      <th></th>\n",
       "      <th>fare_amount</th>\n",
       "      <th>pickup_datetime</th>\n",
       "      <th>pickup_longitude</th>\n",
       "      <th>pickup_latitude</th>\n",
       "      <th>dropoff_longitude</th>\n",
       "      <th>dropoff_latitude</th>\n",
       "      <th>passenger_count</th>\n",
       "      <th>distance</th>\n",
       "      <th>day_of_week</th>\n",
       "      <th>numerical_time</th>\n",
       "      <th>high_fare</th>\n",
       "      <th>year</th>\n",
       "      <th>month</th>\n",
       "      <th>month_completion</th>\n",
       "      <th>hours_for_plotly</th>\n",
       "      <th>haversine_distance</th>\n",
       "    </tr>\n",
       "  </thead>\n",
       "  <tbody>\n",
       "    <tr>\n",
       "      <th>0</th>\n",
       "      <td>8.500000</td>\n",
       "      <td>2010-03-30 19:27:00</td>\n",
       "      <td>-73.965393</td>\n",
       "      <td>40.768574</td>\n",
       "      <td>-73.998184</td>\n",
       "      <td>40.761074</td>\n",
       "      <td>1</td>\n",
       "      <td>0.033638</td>\n",
       "      <td>3</td>\n",
       "      <td>70020</td>\n",
       "      <td>0</td>\n",
       "      <td>2010</td>\n",
       "      <td>3</td>\n",
       "      <td>0.967742</td>\n",
       "      <td>19</td>\n",
       "      <td>2.885694</td>\n",
       "    </tr>\n",
       "    <tr>\n",
       "      <th>1</th>\n",
       "      <td>35.470001</td>\n",
       "      <td>2010-08-10 20:02:03</td>\n",
       "      <td>-73.967354</td>\n",
       "      <td>40.769295</td>\n",
       "      <td>-73.967285</td>\n",
       "      <td>40.802975</td>\n",
       "      <td>1</td>\n",
       "      <td>0.033680</td>\n",
       "      <td>3</td>\n",
       "      <td>72123</td>\n",
       "      <td>1</td>\n",
       "      <td>2010</td>\n",
       "      <td>8</td>\n",
       "      <td>0.322581</td>\n",
       "      <td>20</td>\n",
       "      <td>3.746221</td>\n",
       "    </tr>\n",
       "    <tr>\n",
       "      <th>2</th>\n",
       "      <td>6.100000</td>\n",
       "      <td>2011-03-13 13:24:00</td>\n",
       "      <td>-73.968842</td>\n",
       "      <td>40.758278</td>\n",
       "      <td>-73.961395</td>\n",
       "      <td>40.768566</td>\n",
       "      <td>1</td>\n",
       "      <td>0.012700</td>\n",
       "      <td>1</td>\n",
       "      <td>48240</td>\n",
       "      <td>0</td>\n",
       "      <td>2011</td>\n",
       "      <td>3</td>\n",
       "      <td>0.419355</td>\n",
       "      <td>13</td>\n",
       "      <td>1.305027</td>\n",
       "    </tr>\n",
       "    <tr>\n",
       "      <th>3</th>\n",
       "      <td>9.700000</td>\n",
       "      <td>2011-06-11 19:45:14</td>\n",
       "      <td>-73.982178</td>\n",
       "      <td>40.774796</td>\n",
       "      <td>-73.954308</td>\n",
       "      <td>40.783150</td>\n",
       "      <td>1</td>\n",
       "      <td>0.029095</td>\n",
       "      <td>7</td>\n",
       "      <td>71114</td>\n",
       "      <td>0</td>\n",
       "      <td>2011</td>\n",
       "      <td>6</td>\n",
       "      <td>0.366667</td>\n",
       "      <td>19</td>\n",
       "      <td>2.524654</td>\n",
       "    </tr>\n",
       "    <tr>\n",
       "      <th>4</th>\n",
       "      <td>7.700000</td>\n",
       "      <td>2011-12-03 13:16:02</td>\n",
       "      <td>-73.977798</td>\n",
       "      <td>40.742279</td>\n",
       "      <td>-73.998634</td>\n",
       "      <td>40.734917</td>\n",
       "      <td>1</td>\n",
       "      <td>0.022098</td>\n",
       "      <td>7</td>\n",
       "      <td>47762</td>\n",
       "      <td>0</td>\n",
       "      <td>2011</td>\n",
       "      <td>12</td>\n",
       "      <td>0.096774</td>\n",
       "      <td>13</td>\n",
       "      <td>1.937575</td>\n",
       "    </tr>\n",
       "  </tbody>\n",
       "</table>\n",
       "</div>"
      ],
      "text/plain": [
       "   fare_amount     pickup_datetime  pickup_longitude  pickup_latitude  \\\n",
       "0     8.500000 2010-03-30 19:27:00        -73.965393        40.768574   \n",
       "1    35.470001 2010-08-10 20:02:03        -73.967354        40.769295   \n",
       "2     6.100000 2011-03-13 13:24:00        -73.968842        40.758278   \n",
       "3     9.700000 2011-06-11 19:45:14        -73.982178        40.774796   \n",
       "4     7.700000 2011-12-03 13:16:02        -73.977798        40.742279   \n",
       "\n",
       "   dropoff_longitude  dropoff_latitude  passenger_count  distance  \\\n",
       "0         -73.998184         40.761074                1  0.033638   \n",
       "1         -73.967285         40.802975                1  0.033680   \n",
       "2         -73.961395         40.768566                1  0.012700   \n",
       "3         -73.954308         40.783150                1  0.029095   \n",
       "4         -73.998634         40.734917                1  0.022098   \n",
       "\n",
       "   day_of_week  numerical_time  high_fare  year  month  month_completion  \\\n",
       "0            3           70020          0  2010      3          0.967742   \n",
       "1            3           72123          1  2010      8          0.322581   \n",
       "2            1           48240          0  2011      3          0.419355   \n",
       "3            7           71114          0  2011      6          0.366667   \n",
       "4            7           47762          0  2011     12          0.096774   \n",
       "\n",
       "   hours_for_plotly  haversine_distance  \n",
       "0                19            2.885694  \n",
       "1                20            3.746221  \n",
       "2                13            1.305027  \n",
       "3                19            2.524654  \n",
       "4                13            1.937575  "
      ]
     },
     "execution_count": 6,
     "metadata": {},
     "output_type": "execute_result"
    }
   ],
   "source": [
    "%%time\n",
    "import matplotlib.pyplot as plt\n",
    "from pyspark.sql.functions import udf\n",
    "\n",
    "\n",
    "sample_data = data.limit(10_000) # ----- Important Note: limit() isn't guaranteed to always give the same 10,000 rows from the dataframe  -------\n",
    "sample_data.count()\n",
    "\n",
    "#Adding hour column\n",
    "from pyspark.sql.functions import col, second, minute, hour\n",
    "sample_data = sample_data.withColumn(\"hours_for_plotly\", hour(col('pickup_datetime')))\n",
    "udf_func = udf(haversine_distance, FloatType()) # Creating a 'User Defined Function' to calculate distance between two points.\n",
    "sample_data = sample_data.withColumn(\"haversine_distance\", udf_func(sample_data.pickup_latitude, sample_data.pickup_longitude, \\\n",
    "                                         sample_data.dropoff_latitude, sample_data.dropoff_longitude))\n",
    "pdf = sample_data.toPandas()\n",
    "pdf.head()"
   ]
  },
  {
   "cell_type": "markdown",
   "metadata": {},
   "source": [
    "### Distribution of ride fairs"
   ]
  },
  {
   "cell_type": "code",
   "execution_count": 7,
   "metadata": {},
   "outputs": [
    {
     "data": {
      "image/png": "[encoded data removed]",
      "text/plain": [
       "<Figure size 432x288 with 1 Axes>"
      ]
     },
     "metadata": {
      "needs_background": "light"
     },
     "output_type": "display_data"
    },
    {
     "name": "stdout",
     "output_type": "stream",
     "text": [
      "Wall time: 297 ms\n"
     ]
    }
   ],
   "source": [
    "%%time\n",
    "plt.hist(pdf['fare_amount'], bins=50)\n",
    "plt.xlabel('fare_amount [USD]')\n",
    "plt.ylabel('Frequency')\n",
    "plt.title('Distribution of Fare Prices')\n",
    "plt.show()\n",
    "\n",
    "# Disribution seems to be normal-ish"
   ]
  },
  {
   "cell_type": "markdown",
   "metadata": {},
   "source": [
    "### Ride fare vs. Ride length"
   ]
  },
  {
   "cell_type": "code",
   "execution_count": 8,
   "metadata": {},
   "outputs": [
    {
     "data": {
      "image/png": "[encoded data removed]",
      "text/plain": [
       "<Figure size 432x288 with 1 Axes>"
      ]
     },
     "metadata": {
      "needs_background": "light"
     },
     "output_type": "display_data"
    },
    {
     "name": "stdout",
     "output_type": "stream",
     "text": [
      "Wall time: 238 ms\n"
     ]
    }
   ],
   "source": [
    "%%time\n",
    "plt.scatter(pdf['haversine_distance'], pdf['fare_amount'])\n",
    "plt.xlabel('haversine_distance [Km]')\n",
    "plt.ylabel('fare_amount [USD]')\n",
    "plt.title('Ride fare vs. Ride length')\n",
    "plt.show()"
   ]
  },
  {
   "cell_type": "markdown",
   "metadata": {},
   "source": [
    "### Average ride length per pick up time hour of the day"
   ]
  },
  {
   "cell_type": "code",
   "execution_count": 9,
   "metadata": {},
   "outputs": [
    {
     "data": {
      "image/png": "[encoded data removed]",
      "text/plain": [
       "<Figure size 432x288 with 1 Axes>"
      ]
     },
     "metadata": {
      "needs_background": "light"
     },
     "output_type": "display_data"
    },
    {
     "data": {
      "image/png": "[encoded data removed]",
      "text/plain": [
       "<Figure size 432x288 with 1 Axes>"
      ]
     },
     "metadata": {
      "needs_background": "light"
     },
     "output_type": "display_data"
    },
    {
     "name": "stdout",
     "output_type": "stream",
     "text": [
      "Wall time: 6.15 s\n"
     ]
    }
   ],
   "source": [
    "%%time\n",
    "from pyspark.sql import functions as F\n",
    "temp = pdf\n",
    "pdf = sample_data.groupBy('hours_for_plotly').agg(F.mean('haversine_distance').alias('avg_distance')).toPandas()\n",
    "\n",
    "plt.bar(pdf['hours_for_plotly'], pdf['avg_distance'])\n",
    "plt.ylabel('average distance [Km]')\n",
    "plt.xlabel('hour')\n",
    "plt.title('Average ride length per pick up time hour of the day')\n",
    "plt.show()\n",
    "pdf = temp\n",
    "\n",
    "pdf.groupby('hours_for_plotly')['haversine_distance'].mean().plot()\n",
    "plt.ylabel('average distance [Km]')\n",
    "plt.xlabel('hour')\n",
    "plt.title('Average ride length per pick up time hour of the day')\n",
    "plt.show()"
   ]
  },
  {
   "cell_type": "markdown",
   "metadata": {},
   "source": [
    "# Creating the ML model"
   ]
  },
  {
   "cell_type": "markdown",
   "metadata": {},
   "source": [
    "## Create the Features Vector\n",
    "### Spark ML expects data to be represented in two columns: a features vector and a label column (in this case high_fare)"
   ]
  },
  {
   "cell_type": "code",
   "execution_count": 8,
   "metadata": {},
   "outputs": [
    {
     "name": "stdout",
     "output_type": "stream",
     "text": [
      "CPU times: user 1.74 ms, sys: 3.69 ms, total: 5.42 ms\n",
      "Wall time: 189 ms\n"
     ]
    }
   ],
   "source": [
    "%%time\n",
    "from pyspark.ml.feature import VectorAssembler\n",
    "newListOfFeatures = ['pickup_longitude','pickup_latitude','dropoff_longitude','dropoff_latitude','passenger_count', 'distance', 'day_of_week', 'numerical_time', 'month_completion', 'month', 'year']\n",
    "assembler = VectorAssembler(inputCols=newListOfFeatures, outputCol='features')\n",
    "model_data = assembler.transform(data).select(['features', 'high_fare'])"
   ]
  },
  {
   "cell_type": "code",
   "execution_count": 9,
   "metadata": {},
   "outputs": [
    {
     "name": "stdout",
     "output_type": "stream",
     "text": [
      "+--------------------+---------+\n",
      "|            features|high_fare|\n",
      "+--------------------+---------+\n",
      "|[-73.965393066406...|        0|\n",
      "|[-73.967353820800...|        1|\n",
      "|[-73.968841552734...|        0|\n",
      "|[-73.982177734375...|        0|\n",
      "|[-73.977798461914...|        0|\n",
      "|[-74.003028869628...|        1|\n",
      "|[-73.964645385742...|        0|\n",
      "|[-73.969833374023...|        0|\n",
      "|[-73.990974426269...|        0|\n",
      "|[-74.002265930175...|        0|\n",
      "+--------------------+---------+\n",
      "only showing top 10 rows\n",
      "\n",
      "CPU times: user 1.44 ms, sys: 280 µs, total: 1.72 ms\n",
      "Wall time: 382 ms\n"
     ]
    }
   ],
   "source": [
    "%%time\n",
    "model_data.show(10)"
   ]
  },
  {
   "cell_type": "markdown",
   "metadata": {},
   "source": [
    "## Split the data into training and test sets (20% held out for testing)\n",
    "### Train in the traing set, and evaluate on both the training and test sets"
   ]
  },
  {
   "cell_type": "code",
   "execution_count": 10,
   "metadata": {},
   "outputs": [
    {
     "name": "stdout",
     "output_type": "stream",
     "text": [
      "CPU times: user 2.06 ms, sys: 38 µs, total: 2.1 ms\n",
      "Wall time: 13.3 ms\n"
     ]
    }
   ],
   "source": [
    "%%time\n",
    "(trainingData, testData) = model_data.randomSplit([0.8, 0.2])"
   ]
  },
  {
   "cell_type": "markdown",
   "metadata": {},
   "source": [
    "## Normalizing the Data"
   ]
  },
  {
   "cell_type": "code",
   "execution_count": 11,
   "metadata": {},
   "outputs": [
    {
     "name": "stdout",
     "output_type": "stream",
     "text": [
      "CPU times: user 31.7 ms, sys: 2.71 ms, total: 34.4 ms\n",
      "Wall time: 3min 28s\n"
     ]
    }
   ],
   "source": [
    "%%time\n",
    "from pyspark.ml.feature import StandardScaler\n",
    "\n",
    "## scale\n",
    "\n",
    "scaler = StandardScaler(withMean=True, withStd=True).setInputCol(\"features\").setOutputCol(\"scaled_features\") \n",
    "scaler_model=scaler.fit(trainingData)\n",
    "trainingData=scaler_model.transform(trainingData).select(['scaled_features','high_fare'])\n",
    "\n",
    "## Scale the testData\n",
    "testData=scaler_model.transform(testData).select(['scaled_features','high_fare'])"
   ]
  },
  {
   "cell_type": "markdown",
   "metadata": {},
   "source": [
    "## Training the Model"
   ]
  },
  {
   "cell_type": "markdown",
   "metadata": {},
   "source": [
    "### Using Logistic Regression Classifier"
   ]
  },
  {
   "cell_type": "code",
   "execution_count": 12,
   "metadata": {},
   "outputs": [
    {
     "name": "stdout",
     "output_type": "stream",
     "text": [
      "Done with the training\n",
      "CPU times: user 66.5 ms, sys: 6.64 ms, total: 73.2 ms\n",
      "Wall time: 4min 33s\n"
     ]
    }
   ],
   "source": [
    "%%time\n",
    "from pyspark.ml.classification import LogisticRegression\n",
    "algo = LogisticRegression(featuresCol='scaled_features', labelCol='high_fare', maxIter=1000, regParam=0.1, elasticNetParam=0.1)\n",
    "lrModel = algo.fit(trainingData)\n",
    "print(\"Done with the training\")\n",
    "\n",
    "### Generating Predictions\n",
    "predictions = lrModel.transform(trainingData)"
   ]
  },
  {
   "cell_type": "markdown",
   "metadata": {},
   "source": [
    "## Model Evaluation\n",
    "### Use a BinaryClassificationEvaluator with the area under ROC curve (AUC) metric"
   ]
  },
  {
   "cell_type": "code",
   "execution_count": 12,
   "metadata": {},
   "outputs": [
    {
     "name": "stdout",
     "output_type": "stream",
     "text": [
      "CPU times: user 1.8 ms, sys: 0 ns, total: 1.8 ms\n",
      "Wall time: 7.29 ms\n"
     ]
    }
   ],
   "source": [
    "%%time\n",
    "from pyspark.ml.evaluation import BinaryClassificationEvaluator\n",
    "evaluator = BinaryClassificationEvaluator(labelCol='high_fare', metricName='areaUnderROC')"
   ]
  },
  {
   "cell_type": "code",
   "execution_count": 15,
   "metadata": {},
   "outputs": [
    {
     "name": "stdout",
     "output_type": "stream",
     "text": [
      "Train: 0.9201615451268093\n",
      "Validation: 0.9204629931963846\n",
      "CPU times: user 54.2 ms, sys: 12.4 ms, total: 66.6 ms\n",
      "Wall time: 8min 41s\n"
     ]
    }
   ],
   "source": [
    "%%time\n",
    "print(\"Train:\", evaluator.evaluate(predictions))\n",
    "# Evaluate on test data\n",
    "test_predictions = lrModel.transform(testData)\n",
    "print(\"Validation:\", evaluator.evaluate(test_predictions))"
   ]
  },
  {
   "cell_type": "markdown",
   "metadata": {},
   "source": [
    "## Evaluate the model using MultiClassMetrics"
   ]
  },
  {
   "cell_type": "code",
   "execution_count": 16,
   "metadata": {},
   "outputs": [],
   "source": [
    "from pyspark.mllib.evaluation import MulticlassMetrics\n",
    "\n",
    "def rddEvaluate(model_data_test, testerModel):\n",
    "    test_preds = testerModel.transform(model_data_test)\n",
    "    predictions = test_preds.withColumn(\"high_fare_real\", test_preds[\"high_fare\"].cast(FloatType()))\n",
    "    predictionAndLabels = predictions.select(\"prediction\", \"high_fare_real\").rdd.map(tuple)\n",
    "    metrics = MulticlassMetrics(predictionAndLabels)\n",
    "    precision = metrics.precision(1.0)\n",
    "    recall = metrics.recall(1.0)\n",
    "    f1Score = metrics.fMeasure(1.0)\n",
    "    print(\"Summary Stats\")\n",
    "    print(\"Binary Evaluator:\", evaluator.evaluate(test_preds))\n",
    "    print(\"Precision = %s\" % precision)\n",
    "    print(\"Recall = %s\" % recall)\n",
    "    print(\"F1Score = %s\" % f1Score)\n",
    "    print(metrics.confusionMatrix().toArray())\n",
    "    print(\"Total wrong = \", test_preds[(test_preds.high_fare != test_preds.prediction)].count())"
   ]
  },
  {
   "cell_type": "markdown",
   "metadata": {},
   "source": [
    "### Using A Decision Tree, with max-depth 2, maxBins = 5"
   ]
  },
  {
   "cell_type": "code",
   "execution_count": 13,
   "metadata": {},
   "outputs": [
    {
     "name": "stdout",
     "output_type": "stream",
     "text": [
      "Train: 0.8435921246392152\n",
      "Validation: 0.843480081091586\n",
      "CPU times: user 127 ms, sys: 37.3 ms, total: 164 ms\n",
      "Wall time: 22min 5s\n"
     ]
    }
   ],
   "source": [
    "%%time\n",
    "from pyspark.ml.classification import DecisionTreeClassifier\n",
    "algo = DecisionTreeClassifier(featuresCol='scaled_features', labelCol='high_fare', maxDepth=2, maxBins = 5)\n",
    "dtModel = algo.fit(trainingData)\n",
    "predictions = dtModel.transform(trainingData)\n",
    "# Train on training data\n",
    "print(\"Train:\", evaluator.evaluate(predictions))\n",
    "# Evaluate on test data\n",
    "test_predictions = dtModel.transform(testData)\n",
    "print(\"Validation:\", evaluator.evaluate(test_predictions))"
   ]
  },
  {
   "cell_type": "markdown",
   "metadata": {},
   "source": [
    "### Now try RandomForest Classifier with numTrees=35, maxDepth=12"
   ]
  },
  {
   "cell_type": "code",
   "execution_count": 23,
   "metadata": {},
   "outputs": [
    {
     "name": "stdout",
     "output_type": "stream",
     "text": [
      "Train: 0.9457105441226862\n",
      "Validation: 0.9457510204739217\n",
      "Summary Stats\n",
      "Binary Evaluator: 0.9457548958889437\n",
      "Precision = 0.898175206134931\n",
      "Recall = 0.7910767679644117\n",
      "F1Score = 0.8412309709021604\n",
      "[[2300548.  139831.]\n",
      " [ 325746. 1233420.]]\n",
      "Total wrong =  465577\n",
      "----------------------\n",
      "\n",
      "CPU times: user 1.46 s, sys: 491 ms, total: 1.95 s\n",
      "Wall time: 1h 4min 32s\n"
     ]
    }
   ],
   "source": [
    "%%time\n",
    "from pyspark.ml.classification import RandomForestClassifier\n",
    "# Train on training data\n",
    "\n",
    "algo = RandomForestClassifier(featuresCol='scaled_features', labelCol='high_fare', numTrees=35, maxDepth=12)\n",
    "rfModel = algo.fit(trainingData)\n",
    "train_predictions = rfModel.transform(trainingData)\n",
    "print(\"Train:\", evaluator.evaluate(train_predictions))\n",
    "# Evaluate on test data\n",
    "test_predictions = rfModel.transform(testData)\n",
    "print(\"Validation:\", evaluator.evaluate(test_predictions))\n",
    "rddEvaluate(testData, rfModel)\n",
    "print(\"----------------------\\n\")"
   ]
  },
  {
   "cell_type": "markdown",
   "metadata": {},
   "source": [
    "## Now Start Gradient Boosting"
   ]
  },
  {
   "cell_type": "code",
   "execution_count": 1,
   "metadata": {},
   "outputs": [
    {
     "name": "stdout",
     "output_type": "stream",
     "text": [
      "Train: 0.9603715937652924\n",
      "Validation: 0.9603920517300203\n",
      "Summary Stats\n",
      "Binary Evaluator: 0.9603919338002948\n",
      "Precision = 0.9059437671712846\n",
      "Recall = 0.8364891095871066\n",
      "F1Score = 0.869832181480557\n",
      "[[2307207.  135295.]\n",
      " [ 254731. 1303153.]]\n",
      "Total wrong =  390026\n",
      "----------------------\n",
      "\n",
      "CPU times: user 1.36 s, sys: 356 ms, total: 1.71 s\n",
      "Wall time: 1h 15min 30s\n"
     ]
    }
   ],
   "source": [
    "%%time\n",
    "from pyspark.ml.classification import GBTClassifier\n",
    "\n",
    "gbt = GBTClassifier(labelCol=\"high_fare\", featuresCol=\"scaled_features\", maxIter=180, stepSize=0.28, maxDepth=6)\n",
    "gbtModel = gbt.fit(trainingData)\n",
    "train_predictions = gbtModel.transform(trainingData)\n",
    "print(\"Train:\", evaluator.evaluate(train_predictions))\n",
    "# Evaluate on test data\n",
    "test_predictions = gbtModel.transform(testData)\n",
    "print(\"Validation:\", evaluator.evaluate(test_predictions))\n",
    "rddEvaluate(testData, gbtModel)\n",
    "print(\"----------------------\\n\")"
   ]
  },
  {
   "cell_type": "markdown",
   "metadata": {},
   "source": [
    "### After We Saw Our Model Is Good Using Validation We Now Choose To Train Our Model Using The Entire Dataset"
   ]
  },
  {
   "cell_type": "markdown",
   "metadata": {},
   "source": [
    "## Normalizing the Data"
   ]
  },
  {
   "cell_type": "code",
   "execution_count": 30,
   "metadata": {},
   "outputs": [
    {
     "name": "stdout",
     "output_type": "stream",
     "text": [
      "CPU times: user 20.6 ms, sys: 10.9 ms, total: 31.5 ms\n",
      "Wall time: 3min 22s\n"
     ]
    }
   ],
   "source": [
    "%%time\n",
    "from pyspark.ml.feature import StandardScaler\n",
    "\n",
    "## scale\n",
    "\n",
    "scaler = StandardScaler(withMean=True, withStd=True).setInputCol(\"features\").setOutputCol(\"scaled_features\") \n",
    "scaler_model=scaler.fit(model_data)\n",
    "trainingData=scaler_model.transform(model_data).select(['scaled_features','high_fare'])"
   ]
  },
  {
   "cell_type": "markdown",
   "metadata": {},
   "source": [
    "## Now Start Gradient Boosting With All 20M Rows"
   ]
  },
  {
   "cell_type": "code",
   "execution_count": 25,
   "metadata": {},
   "outputs": [
    {
     "name": "stdout",
     "output_type": "stream",
     "text": [
      "Train: 0.9604059263488305\n",
      "----------------------\n",
      "\n",
      "CPU times: user 1.23 s, sys: 507 ms, total: 1.74 s\n",
      "Wall time: 1h 6min 43s\n"
     ]
    }
   ],
   "source": [
    "%%time\n",
    "from pyspark.ml.classification import GBTClassifier\n",
    "\n",
    "gbt = GBTClassifier(labelCol=\"high_fare\", featuresCol=\"scaled_features\", maxIter=180, stepSize=0.28, maxDepth=6)\n",
    "gbtModel = gbt.fit(trainingData)\n",
    "train_predictions = gbtModel.transform(trainingData)\n",
    "print(\"Train:\", evaluator.evaluate(train_predictions))\n",
    "print(\"----------------------\\n\")"
   ]
  },
  {
   "cell_type": "code",
   "execution_count": 20,
   "metadata": {},
   "outputs": [
    {
     "name": "stdout",
     "output_type": "stream",
     "text": [
      "+--------------------+---------+\n",
      "|     scaled_features|high_fare|\n",
      "+--------------------+---------+\n",
      "|[0.25522379189727...|        0|\n",
      "|[0.20377458589907...|        1|\n",
      "|[0.16473725060861...|        0|\n",
      "|[-0.1851974267643...|        0|\n",
      "|[-0.0702875269862...|        0|\n",
      "|[-0.7323206952198...|        1|\n",
      "|[0.27484255527401...|        0|\n",
      "|[0.13871236041497...|        0|\n",
      "|[-0.4160181836356...|        0|\n",
      "|[-0.7123015489170...|        0|\n",
      "|[-0.2973046460600...|        0|\n",
      "|[0.60015368269452...|        0|\n",
      "|[-0.4384396274947...|        1|\n",
      "|[0.35451875755916...|        0|\n",
      "|[-0.4672671981707...|        0|\n",
      "|[-0.6736645965526...|        0|\n",
      "|[-0.5535497187358...|        0|\n",
      "|[-0.3819856349208...|        1|\n",
      "|[0.25802647237966...|        1|\n",
      "|[0.50185967434777...|        1|\n",
      "+--------------------+---------+\n",
      "only showing top 20 rows\n",
      "\n"
     ]
    }
   ],
   "source": [
    "trainingData.show()"
   ]
  },
  {
   "cell_type": "markdown",
   "metadata": {},
   "source": [
    "# Now Test The Model With The Test Data"
   ]
  },
  {
   "cell_type": "code",
   "execution_count": 27,
   "metadata": {},
   "outputs": [
    {
     "name": "stdout",
     "output_type": "stream",
     "text": [
      "+--------+-------------------+----------------+---------------+-----------------+----------------+---------------+\n",
      "|     key|    pickup_datetime|pickup_longitude|pickup_latitude|dropoff_longitude|dropoff_latitude|passenger_count|\n",
      "+--------+-------------------+----------------+---------------+-----------------+----------------+---------------+\n",
      "|19990001|2012-05-31 07:04:14|       -73.94636|      40.792088|        -73.96618|       40.764984|              2|\n",
      "|19990002|2015-01-27 20:51:29|       -73.97137|        40.7604|       -73.995346|       40.744392|              6|\n",
      "|19990003|2015-05-18 16:41:16|       -73.96013|       40.76694|        -73.95677|        40.77497|              5|\n",
      "|19990004|2009-05-30 04:13:32|       -73.98996|       40.72943|       -73.994835|       40.743565|              1|\n",
      "|19990005|2010-04-08 07:55:00|       -73.96511|      40.791817|        -73.94468|       40.773884|              1|\n",
      "|19990006|2010-03-05 21:35:06|       -73.98098|       40.75984|        -73.98247|       40.742813|              1|\n",
      "|19990007|2009-04-10 14:04:26|       -73.98992|       40.76732|       -73.993195|       40.749657|              1|\n",
      "|19990008|2009-12-28 16:58:00|             0.0|            0.0|              0.0|             0.0|              1|\n",
      "|19990009|2010-07-22 01:04:05|       -73.96423|       40.77099|        -73.97126|       40.765804|              1|\n",
      "|19990010|2011-07-29 23:17:00|       -73.97981|      40.738976|        -73.98359|        40.72161|              2|\n",
      "|19990011|2015-05-12 17:27:23|       -74.00958|       40.70547|          -73.997|       40.734158|              1|\n",
      "|19990012|2011-10-13 00:07:00|       -73.97613|      40.765427|        -73.96399|        40.79803|              1|\n",
      "|19990013|2011-05-02 21:14:00|       -73.97986|       40.73921|       -73.995834|       40.720974|              1|\n",
      "|19990014|2013-01-28 11:49:29|             0.0|            0.0|              0.0|             0.0|              1|\n",
      "|19990015|2014-01-06 00:31:00|      -74.004036|        40.7133|       -73.966354|       40.690605|              4|\n",
      "|19990016|2010-02-28 22:28:00|       -73.99408|        40.7514|       -73.977905|       40.746494|              1|\n",
      "|19990017|2014-12-18 20:34:59|      -73.960815|      40.769947|       -73.978714|       40.777588|              1|\n",
      "|19990018|2012-09-07 16:09:21|       -73.97951|      40.761196|        -73.96603|       40.765095|              1|\n",
      "|19990019|2013-01-12 23:12:00|      -73.995285|      40.739227|        -73.98354|       40.776005|              2|\n",
      "|19990020|2015-04-08 05:32:31|       -73.95289|        40.8105|        -73.98813|         40.7442|              1|\n",
      "+--------+-------------------+----------------+---------------+-----------------+----------------+---------------+\n",
      "only showing top 20 rows\n",
      "\n",
      "CPU times: user 3.1 ms, sys: 0 ns, total: 3.1 ms\n",
      "Wall time: 51 ms\n"
     ]
    }
   ],
   "source": [
    "%%time\n",
    "\n",
    "\n",
    "schema2 = StructType([\n",
    "    StructField(\"key\", IntegerType()),\n",
    "    StructField(\"pickup_datetime\", TimestampType()), # Will later extract date and time\n",
    "    StructField(\"pickup_longitude\", FloatType()),\n",
    "    StructField(\"pickup_latitude\", FloatType()),\n",
    "    StructField(\"dropoff_longitude\", FloatType()),\n",
    "    StructField(\"dropoff_latitude\", FloatType()),\n",
    "    StructField(\"passenger_count\", ByteType())\n",
    "])\n",
    "\n",
    "\n",
    "afeka_test_data = spark.read.format(\"csv\").option(\"header\", \"true\").schema(schema2).option(\"TimeStampFormat\", \"yyyy-mm-dd hh:mm:ss\").load('afeka_test.csv')\n",
    "afeka_test_data.show()"
   ]
  },
  {
   "cell_type": "markdown",
   "metadata": {},
   "source": [
    "### Adding Features"
   ]
  },
  {
   "cell_type": "code",
   "execution_count": 34,
   "metadata": {},
   "outputs": [
    {
     "name": "stdout",
     "output_type": "stream",
     "text": [
      "+--------+-------------------+----------------+---------------+-----------------+----------------+---------------+-----------+-----------+--------------+----+-----+-------------------+-------+\n",
      "|     key|    pickup_datetime|pickup_longitude|pickup_latitude|dropoff_longitude|dropoff_latitude|passenger_count|   distance|day_of_week|numerical_time|year|month|   month_completion|isInBox|\n",
      "+--------+-------------------+----------------+---------------+-----------------+----------------+---------------+-----------+-----------+--------------+----+-----+-------------------+-------+\n",
      "|19990001|2012-05-31 07:04:14|       -73.94636|      40.792088|        -73.96618|       40.764984|              2| 0.03357788|          5|         25454|2012|    5|                1.0|      1|\n",
      "|19990002|2015-01-27 20:51:29|       -73.97137|        40.7604|       -73.995346|       40.744392|              6|0.028830687|          3|         75089|2015|    1| 0.8709677419354839|      1|\n",
      "|19990003|2015-05-18 16:41:16|       -73.96013|       40.76694|        -73.95677|        40.77497|              5|0.008703385|          2|         60076|2015|    5| 0.5806451612903226|      1|\n",
      "|19990004|2009-05-30 04:13:32|       -73.98996|       40.72943|       -73.994835|       40.743565|              1|0.014950649|          7|         15212|2009|    5|  0.967741935483871|      1|\n",
      "|19990005|2010-04-08 07:55:00|       -73.96511|      40.791817|        -73.94468|       40.773884|              1| 0.02718521|          5|         28500|2010|    4|0.26666666666666666|      1|\n",
      "|19990006|2010-03-05 21:35:06|       -73.98098|       40.75984|        -73.98247|       40.742813|              1|0.017089874|          6|         77706|2010|    3|0.16129032258064516|      1|\n",
      "|19990007|2009-04-10 14:04:26|       -73.98992|       40.76732|       -73.993195|       40.749657|              1|0.017962754|          6|         50666|2009|    4| 0.3333333333333333|      1|\n",
      "|19990008|2009-12-28 16:58:00|             0.0|            0.0|              0.0|             0.0|              1|        0.0|          2|         61080|2009|   12| 0.9032258064516129|      0|\n",
      "|19990009|2010-07-22 01:04:05|       -73.96423|       40.77099|        -73.97126|       40.765804|              1|0.008732112|          5|          3845|2010|    7| 0.7096774193548387|      1|\n",
      "|19990010|2011-07-29 23:17:00|       -73.97981|      40.738976|        -73.98359|        40.72161|              2|0.017770432|          6|         83820|2011|    7| 0.9354838709677419|      1|\n",
      "|19990011|2015-05-12 17:27:23|       -74.00958|       40.70547|          -73.997|       40.734158|              1|0.031324033|          3|         62843|2015|    5| 0.3870967741935484|      1|\n",
      "|19990012|2011-10-13 00:07:00|       -73.97613|      40.765427|        -73.96399|        40.79803|              1|0.034790445|          5|           420|2011|   10|0.41935483870967744|      1|\n",
      "|19990013|2011-05-02 21:14:00|       -73.97986|       40.73921|       -73.995834|       40.720974|              1|0.024242917|          2|         76440|2011|    5|0.06451612903225806|      1|\n",
      "|19990014|2013-01-28 11:49:29|             0.0|            0.0|              0.0|             0.0|              1|        0.0|          2|         42569|2013|    1| 0.9032258064516129|      0|\n",
      "|19990015|2014-01-06 00:31:00|      -74.004036|        40.7133|       -73.966354|       40.690605|              4|0.043987527|          2|          1860|2014|    1| 0.1935483870967742|      1|\n",
      "|19990016|2010-02-28 22:28:00|       -73.99408|        40.7514|       -73.977905|       40.746494|              1|0.016901905|          1|         80880|2010|    2|                1.0|      1|\n",
      "|19990017|2014-12-18 20:34:59|      -73.960815|      40.769947|       -73.978714|       40.777588|              1|0.019461265|          5|         74099|2014|   12| 0.5806451612903226|      1|\n",
      "|19990018|2012-09-07 16:09:21|       -73.97951|      40.761196|        -73.96603|       40.765095|              1|0.014033545|          6|         58161|2012|    9|0.23333333333333334|      1|\n",
      "|19990019|2013-01-12 23:12:00|      -73.995285|      40.739227|        -73.98354|       40.776005|              2| 0.03860635|          7|         83520|2013|    1| 0.3870967741935484|      1|\n",
      "|19990020|2015-04-08 05:32:31|       -73.95289|        40.8105|        -73.98813|         40.7442|              1| 0.07508319|          4|         19951|2015|    4|0.26666666666666666|      1|\n",
      "+--------+-------------------+----------------+---------------+-----------------+----------------+---------------+-----------+-----------+--------------+----+-----+-------------------+-------+\n",
      "only showing top 20 rows\n",
      "\n",
      "CPU times: user 15.9 ms, sys: 1.55 ms, total: 17.4 ms\n",
      "Wall time: 317 ms\n"
     ]
    }
   ],
   "source": [
    "%%time\n",
    "model_data_test = add_cols(afeka_test_data, False)\n",
    "model_data_test.show()"
   ]
  },
  {
   "cell_type": "markdown",
   "metadata": {},
   "source": [
    "## Impute the afeka_test data"
   ]
  },
  {
   "cell_type": "markdown",
   "metadata": {},
   "source": [
    "### Performing the Imputation"
   ]
  },
  {
   "cell_type": "code",
   "execution_count": 31,
   "metadata": {},
   "outputs": [
    {
     "name": "stdout",
     "output_type": "stream",
     "text": [
      "+--------+-------------------+----------------+---------------+-----------------+----------------+---------------+-----------+-----------+--------------+----+-----+-------------------+-------+\n",
      "|     key|    pickup_datetime|pickup_longitude|pickup_latitude|dropoff_longitude|dropoff_latitude|passenger_count|   distance|day_of_week|numerical_time|year|month|   month_completion|isInBox|\n",
      "+--------+-------------------+----------------+---------------+-----------------+----------------+---------------+-----------+-----------+--------------+----+-----+-------------------+-------+\n",
      "|19990001|2012-05-31 07:04:14|       -73.94636|      40.792088|        -73.96618|       40.764984|              2| 0.03357788|          5|         25454|2012|    5|                1.0|      1|\n",
      "|19990002|2015-01-27 20:51:29|       -73.97137|        40.7604|       -73.995346|       40.744392|              6|0.028830687|          3|         75089|2015|    1| 0.8709677419354839|      1|\n",
      "|19990003|2015-05-18 16:41:16|       -73.96013|       40.76694|        -73.95677|        40.77497|              5|0.008703385|          2|         60076|2015|    5| 0.5806451612903226|      1|\n",
      "|19990004|2009-05-30 04:13:32|       -73.98996|       40.72943|       -73.994835|       40.743565|              1|0.014950649|          7|         15212|2009|    5|  0.967741935483871|      1|\n",
      "|19990005|2010-04-08 07:55:00|       -73.96511|      40.791817|        -73.94468|       40.773884|              1| 0.02718521|          5|         28500|2010|    4|0.26666666666666666|      1|\n",
      "|19990006|2010-03-05 21:35:06|       -73.98098|       40.75984|        -73.98247|       40.742813|              1|0.017089874|          6|         77706|2010|    3|0.16129032258064516|      1|\n",
      "|19990007|2009-04-10 14:04:26|       -73.98992|       40.76732|       -73.993195|       40.749657|              1|0.017962754|          6|         50666|2009|    4| 0.3333333333333333|      1|\n",
      "|19990008|2009-12-28 16:58:00|       -73.97533|       40.75082|        -73.97432|        40.75188|              1|0.034898452|          2|         61080|2009|   12| 0.9032258064516129|      0|\n",
      "|19990009|2010-07-22 01:04:05|       -73.96423|       40.77099|        -73.97126|       40.765804|              1|0.008732112|          5|          3845|2010|    7| 0.7096774193548387|      1|\n",
      "|19990010|2011-07-29 23:17:00|       -73.97981|      40.738976|        -73.98359|        40.72161|              2|0.017770432|          6|         83820|2011|    7| 0.9354838709677419|      1|\n",
      "|19990011|2015-05-12 17:27:23|       -74.00958|       40.70547|          -73.997|       40.734158|              1|0.031324033|          3|         62843|2015|    5| 0.3870967741935484|      1|\n",
      "|19990012|2011-10-13 00:07:00|       -73.97613|      40.765427|        -73.96399|        40.79803|              1|0.034790445|          5|           420|2011|   10|0.41935483870967744|      1|\n",
      "|19990013|2011-05-02 21:14:00|       -73.97986|       40.73921|       -73.995834|       40.720974|              1|0.024242917|          2|         76440|2011|    5|0.06451612903225806|      1|\n",
      "|19990014|2013-01-28 11:49:29|       -73.97533|       40.75082|        -73.97432|        40.75188|              1|0.034898452|          2|         42569|2013|    1| 0.9032258064516129|      0|\n",
      "|19990015|2014-01-06 00:31:00|      -74.004036|        40.7133|       -73.966354|       40.690605|              4|0.043987527|          2|          1860|2014|    1| 0.1935483870967742|      1|\n",
      "|19990016|2010-02-28 22:28:00|       -73.99408|        40.7514|       -73.977905|       40.746494|              1|0.016901905|          1|         80880|2010|    2|                1.0|      1|\n",
      "|19990017|2014-12-18 20:34:59|      -73.960815|      40.769947|       -73.978714|       40.777588|              1|0.019461265|          5|         74099|2014|   12| 0.5806451612903226|      1|\n",
      "|19990018|2012-09-07 16:09:21|       -73.97951|      40.761196|        -73.96603|       40.765095|              1|0.014033545|          6|         58161|2012|    9|0.23333333333333334|      1|\n",
      "|19990019|2013-01-12 23:12:00|      -73.995285|      40.739227|        -73.98354|       40.776005|              2| 0.03860635|          7|         83520|2013|    1| 0.3870967741935484|      1|\n",
      "|19990020|2015-04-08 05:32:31|       -73.95289|        40.8105|        -73.98813|         40.7442|              1| 0.07508319|          4|         19951|2015|    4|0.26666666666666666|      1|\n",
      "+--------+-------------------+----------------+---------------+-----------------+----------------+---------------+-----------+-----------+--------------+----+-----+-------------------+-------+\n",
      "only showing top 20 rows\n",
      "\n",
      "CPU times: user 38.5 ms, sys: 4.56 ms, total: 43 ms\n",
      "Wall time: 2.07 s\n"
     ]
    }
   ],
   "source": [
    "%%time\n",
    "from pyspark.ml.feature import Imputer\n",
    "import pyspark.sql.functions as F\n",
    "\n",
    "### Replacing high distance values with zeros for imputation\n",
    "model_data_test = model_data_test.withColumn(\"distance\", \\\n",
    "              F.when(model_data_test[\"distance\"] > 5, 0).otherwise(model_data_test[\"distance\"]))\n",
    "\n",
    "model_data_test = model_data_test.withColumn(\"passenger_count\", model_data_test[\"passenger_count\"].cast(FloatType()))\n",
    "imputer = Imputer(strategy='median', missingValue=0, inputCols=['passenger_count'], outputCols=['passenger_count']) # Imputer for passenger_count\n",
    "imputer_model = imputer.fit(model_data_test)\n",
    "model_data_test = imputer_model.transform(model_data_test)\n",
    "model_data_test = model_data_test.withColumn(\"passenger_count\", model_data_test[\"passenger_count\"].cast(ByteType()))\n",
    "\n",
    "model_data_test = model_data_test.withColumn(\"pickup_longitude\", F.when(select_within_boundingbox(model_data_test), model_data_test['pickup_longitude']).otherwise(0))\n",
    "\n",
    "model_data_test = model_data_test.withColumn(\"dropoff_longitude\", F.when(select_within_boundingbox(model_data_test), model_data_test['dropoff_longitude']).otherwise(0))\n",
    "\n",
    "model_data_test = model_data_test.withColumn(\"pickup_latitude\", F.when(select_within_boundingbox(model_data_test), model_data_test['pickup_latitude']).otherwise(0))\n",
    "\n",
    "model_data_test = model_data_test.withColumn(\"dropoff_latitude\", F.when(select_within_boundingbox(model_data_test), model_data_test['dropoff_latitude']).otherwise(0))\n",
    "\n",
    "\n",
    "imputer = Imputer(strategy='mean', missingValue=0, inputCols=['distance','pickup_longitude','dropoff_longitude','pickup_latitude','dropoff_latitude'], outputCols=['distance','pickup_longitude','dropoff_longitude','pickup_latitude','dropoff_latitude']) # Imputer for the distance\n",
    "imputer_model = imputer.fit(model_data_test)\n",
    "model_data_test = imputer_model.transform(model_data_test)\n",
    "\n",
    "model_data_test.show(20)\n"
   ]
  },
  {
   "cell_type": "markdown",
   "metadata": {},
   "source": [
    "### Vectorize Features"
   ]
  },
  {
   "cell_type": "code",
   "execution_count": 34,
   "metadata": {},
   "outputs": [
    {
     "name": "stdout",
     "output_type": "stream",
     "text": [
      "CPU times: user 0 ns, sys: 4.12 ms, total: 4.12 ms\n",
      "Wall time: 16.4 ms\n"
     ]
    }
   ],
   "source": [
    "%%time\n",
    "from pyspark.ml.feature import VectorAssembler\n",
    "assembler = VectorAssembler(inputCols=newListOfFeatures, outputCol='features')\n",
    "model_data_test = assembler.transform(model_data_test)"
   ]
  },
  {
   "cell_type": "markdown",
   "metadata": {},
   "source": [
    "## Normalizing the afeka_test"
   ]
  },
  {
   "cell_type": "code",
   "execution_count": 35,
   "metadata": {},
   "outputs": [
    {
     "name": "stdout",
     "output_type": "stream",
     "text": [
      "CPU times: user 8.23 ms, sys: 0 ns, total: 8.23 ms\n",
      "Wall time: 1.3 s\n"
     ]
    }
   ],
   "source": [
    "%%time\n",
    "from pyspark.ml.feature import StandardScaler\n",
    "scaler_df=scaler_model.transform(model_data_test)\n",
    "scaler_df.select(\"features\",\"scaled_features\").head(5) \n",
    "model_data_test = scaler_df"
   ]
  },
  {
   "cell_type": "markdown",
   "metadata": {},
   "source": [
    "### Exporting Predictions As csv File"
   ]
  },
  {
   "cell_type": "code",
   "execution_count": 37,
   "metadata": {},
   "outputs": [],
   "source": [
    "import pandas as pd\n",
    "test_preds = gbtModel.transform(model_data_test)\n",
    "pdf = test_preds.select(['key', 'prediction']).toPandas()\n",
    "pdf.to_csv(\"Results_GBT-20M.csv\")"
   ]
  },
  {
   "cell_type": "markdown",
   "metadata": {},
   "source": [
    "# ----------------------End Of One Worker------------------------------"
   ]
  },
  {
   "cell_type": "markdown",
   "metadata": {},
   "source": [
    "# Output of 8 workers (Same notebook)"
   ]
  },
  {
   "cell_type": "markdown",
   "metadata": {},
   "source": [
    "## First install pyspark"
   ]
  },
  {
   "cell_type": "markdown",
   "metadata": {},
   "source": [
    "#### We couldn't use %%time in our cells, because variables weren't shared among different cells"
   ]
  },
  {
   "cell_type": "code",
   "execution_count": 1,
   "metadata": {},
   "outputs": [
    {
     "name": "stdout",
     "output_type": "stream",
     "text": [
      "Done\n"
     ]
    }
   ],
   "source": [
    "sc.install_pypi_package(\"pyspark\")\n",
    "print(\"Done\")"
   ]
  },
  {
   "cell_type": "code",
   "execution_count": 2,
   "metadata": {},
   "outputs": [
    {
     "name": "stdout",
     "output_type": "stream",
     "text": [
      "Wall time: 0:00:02.527506\n"
     ]
    }
   ],
   "source": [
    "import time\n",
    "import datetime\n",
    "startTime = time.time()\n",
    "import os\n",
    "os.environ['PYSPARK_PYTHON'] = '/usr/bin/python3'\n",
    "os.environ['PYSPARK_DRIVER_PYTHON'] = '/usr/bin/python3'\n",
    "from pyspark.sql.types import StructType, StructField\n",
    "from pyspark.sql.types import DoubleType, IntegerType, StringType, FloatType, ByteType, DateType, TimestampType\n",
    "from pyspark.sql import SparkSession, SQLContext\n",
    "from pyspark import SparkConf, SparkContext\n",
    "\n",
    "'''\n",
    "conf = SparkConf()\n",
    "conf.set(\"spark.executor.memory\", \"16g\")\n",
    "conf.set(\"spark.driver.memory\", \"16g\")\n",
    "spark_context = SparkContext.getOrCreate(conf)\n",
    "spark = SparkSession(spark_context)\n",
    "'''\n",
    "\n",
    "spark.conf.set('spark.sql.session.timeZone', 'UTC')\n",
    "spark.conf.set(\"spark.executor.memory\", \"16g\")\n",
    "spark.conf.set(\"spark.driver.memory\", \"16g\")\n",
    "\n",
    "schema = StructType([\n",
    "    StructField(\"key\", IntegerType()),\n",
    "    StructField(\"fare_amount\", FloatType()),\n",
    "    StructField(\"pickup_datetime\", TimestampType()), # Will later extract date and time\n",
    "    StructField(\"pickup_longitude\", FloatType()),\n",
    "    StructField(\"pickup_latitude\", FloatType()),\n",
    "    StructField(\"dropoff_longitude\", FloatType()),\n",
    "    StructField(\"dropoff_latitude\", FloatType()),\n",
    "    StructField(\"passenger_count\", ByteType())\n",
    "])\n",
    "\n",
    "fileToRead = 's3://aws-emr-resources-744851781915-us-east-1/notebooks/e-8U5X7SIF604TCOKH5BVTVPXF4/afeka_train.csv'\n",
    "#fileToRead = '100k_afeka_train.csv'\n",
    "\n",
    "data = spark.read.format(\"csv\").option(\"header\", \"true\").schema(schema).option(\"TimeStampFormat\", \"yyyy-mm-dd hh:mm:ss\").load(fileToRead)\n",
    "print(\"Wall time:\", datetime.timedelta(seconds=(time.time() - startTime)))"
   ]
  },
  {
   "cell_type": "markdown",
   "metadata": {},
   "source": [
    "### Function to calculate distance between two coordinates"
   ]
  },
  {
   "cell_type": "code",
   "execution_count": 3,
   "metadata": {},
   "outputs": [],
   "source": [
    "from math import cos, asin, sqrt, pi, sin, atan2, radians\n",
    "\n",
    "def haversine_distance(lat1, lon1, lat2, lon2):\n",
    "    # approximate radius of earth in km\n",
    "    R = 6373.0\n",
    "    \n",
    "    # Getting latitude and longtitude of both points\n",
    "    lat1 = radians(lat1)\n",
    "    lon1 = radians(lon1)\n",
    "    lat2 = radians(lat2)\n",
    "    lon2 = radians(lon2)\n",
    "\n",
    "    dlon = lon2 - lon1\n",
    "    dlat = lat2 - lat1\n",
    "\n",
    "    a = sin(dlat / 2)**2 + cos(lat1) * cos(lat2) * sin(dlon / 2)**2\n",
    "    c = 2 * atan2(sqrt(a), sqrt(1 - a))\n",
    "\n",
    "    distance = R * c # Distance in KM\n",
    "    return distance\n",
    "\n",
    "def getEuclidean_distance(pickup_long, pickup_lat, dropoff_long, dropoff_lat):\n",
    "    return sqrt(((pickup_long-dropoff_long)**2) + ((pickup_lat-dropoff_lat)**2))\n",
    "\n",
    "def get_manhattan_dist(pickup_long, pickup_lat, dropoff_long, dropoff_lat):\n",
    "    return (abs(dropoff_long - pickup_long) + abs(dropoff_lat - pickup_lat))\n",
    "\n",
    "def select_within_boundingbox(df):\n",
    "    BB = (-74.5, -72.8, 40.5, 41.8)\n",
    "    return (df.pickup_longitude >= BB[0]) & (df.pickup_longitude <= BB[1]) & \\\n",
    "           (df.pickup_latitude >= BB[2]) & (df.pickup_latitude <= BB[3]) & \\\n",
    "           (df.dropoff_longitude >= BB[0]) & (df.dropoff_longitude <= BB[1]) & \\\n",
    "           (df.dropoff_latitude >= BB[2]) & (df.dropoff_latitude <= BB[3])"
   ]
  },
  {
   "cell_type": "markdown",
   "metadata": {},
   "source": [
    "### Dropping Key Column"
   ]
  },
  {
   "cell_type": "code",
   "execution_count": 4,
   "metadata": {},
   "outputs": [
    {
     "name": "stdout",
     "output_type": "stream",
     "text": [
      "+-----------+-------------------+----------------+---------------+-----------------+----------------+---------------+\n",
      "|fare_amount|    pickup_datetime|pickup_longitude|pickup_latitude|dropoff_longitude|dropoff_latitude|passenger_count|\n",
      "+-----------+-------------------+----------------+---------------+-----------------+----------------+---------------+\n",
      "|        8.5|2010-01-30 19:27:00|       -73.96539|      40.768574|       -73.998184|       40.761074|              1|\n",
      "|      35.47|2010-01-10 20:02:03|      -73.967354|      40.769295|       -73.967285|       40.802975|              1|\n",
      "|        6.1|2011-01-13 13:24:00|       -73.96884|      40.758278|       -73.961395|       40.768566|              1|\n",
      "|        9.7|2011-01-11 19:45:14|       -73.98218|      40.774796|        -73.95431|        40.78315|              1|\n",
      "|        7.7|2011-01-03 13:16:02|        -73.9778|       40.74228|       -73.998634|       40.734917|              1|\n",
      "|      57.33|2013-01-29 14:35:36|       -74.00303|      40.747368|        -73.78937|       40.654743|              2|\n",
      "|        7.5|2013-01-21 22:33:38|      -73.964645|      40.760117|        -73.98311|       40.734978|              1|\n",
      "|        9.7|2010-01-14 15:30:42|       -73.96983|      40.757874|       -73.991295|        40.75013|              1|\n",
      "|        3.7|2010-01-28 23:06:05|      -73.990974|       40.72383|        -73.98589|        40.72693|              1|\n",
      "|        4.5|2011-01-17 20:49:00|      -74.002266|       40.72671|        -74.00374|        40.72248|              5|\n",
      "|        4.9|2012-01-24 19:46:00|       -73.98645|       40.75191|        -73.98438|       40.760754|              1|\n",
      "|        7.7|2012-01-18 13:19:00|       -73.95225|       40.76903|       -73.975746|        40.75233|              1|\n",
      "|       20.0|2013-01-08 00:13:00|       -73.99183|      40.735313|         -73.9524|        40.79915|              1|\n",
      "|        5.5|2013-01-10 17:10:32|       -73.96161|       40.77158|       -73.954865|        40.77789|              1|\n",
      "|        6.5|2014-01-18 17:01:00|       -73.99293|       40.75801|         -74.0056|        40.73947|              1|\n",
      "|        9.5|2015-01-24 17:42:18|       -74.00079|      40.716717|        -74.01393|        40.71532|              5|\n",
      "|        7.7|2012-01-03 01:39:17|      -73.996216|      40.742603|         -73.9973|       40.763718|              1|\n",
      "|       13.5|2013-01-27 15:42:56|       -73.98968|       40.74156|        -73.97103|       40.751522|              1|\n",
      "|       10.5|2014-01-21 17:58:29|       -73.96529|      40.775135|        -73.98337|       40.758884|              1|\n",
      "|       25.5|2015-01-17 20:31:04|       -73.95599|       40.76384|        -73.91965|        40.70028|              1|\n",
      "+-----------+-------------------+----------------+---------------+-----------------+----------------+---------------+\n",
      "only showing top 20 rows\n",
      "\n",
      "Wall time: 0:00:06.093891\n",
      "\n"
     ]
    }
   ],
   "source": [
    "import time\n",
    "import datetime\n",
    "startTime = time.time()\n",
    "data = data.drop(data.key)\n",
    "data.show()\n",
    "print(\"Wall time:\", datetime.timedelta(seconds=(time.time() - startTime)))"
   ]
  },
  {
   "cell_type": "markdown",
   "metadata": {},
   "source": [
    "### Clearing any missing data"
   ]
  },
  {
   "cell_type": "code",
   "execution_count": 5,
   "metadata": {},
   "outputs": [
    {
     "name": "stdout",
     "output_type": "stream",
     "text": [
      "Before  19990000\n",
      "After  19989845\n",
      "155\n",
      "Wall time: 0:00:24.222145\n",
      "\n"
     ]
    }
   ],
   "source": [
    "import time\n",
    "import datetime\n",
    "startTime = time.time()\n",
    "before = data.count()\n",
    "print(\"Before \", before)\n",
    "data = data.dropna()\n",
    "after = data.count()\n",
    "print(\"After \", after)\n",
    "print(before - after)\n",
    "print(\"Wall time:\", datetime.timedelta(seconds=(time.time() - startTime)))"
   ]
  },
  {
   "cell_type": "markdown",
   "metadata": {},
   "source": [
    "### Adding columns -- will be used as future features"
   ]
  },
  {
   "cell_type": "code",
   "execution_count": 6,
   "metadata": {},
   "outputs": [
    {
     "name": "stdout",
     "output_type": "stream",
     "text": [
      "+-----------+-------------------+----------------+---------------+-----------------+----------------+---------------+------------+-----------+--------------+---------+----+-----+-------------------+-------+\n",
      "|fare_amount|    pickup_datetime|pickup_longitude|pickup_latitude|dropoff_longitude|dropoff_latitude|passenger_count|    distance|day_of_week|numerical_time|high_fare|year|month|   month_completion|isInBox|\n",
      "+-----------+-------------------+----------------+---------------+-----------------+----------------+---------------+------------+-----------+--------------+---------+----+-----+-------------------+-------+\n",
      "|        8.5|2010-01-30 19:27:00|       -73.96539|      40.768574|       -73.998184|       40.761074|              1| 0.033637837|          7|         70020|        0|2010|    1|  0.967741935483871|      1|\n",
      "|      35.47|2010-01-10 20:02:03|      -73.967354|      40.769295|       -73.967285|       40.802975|              1| 0.033680033|          1|         72123|        1|2010|    1| 0.3225806451612903|      1|\n",
      "|        6.1|2011-01-13 13:24:00|       -73.96884|      40.758278|       -73.961395|       40.768566|              1|   0.0127002|          5|         48240|        0|2011|    1|0.41935483870967744|      1|\n",
      "|        9.7|2011-01-11 19:45:14|       -73.98218|      40.774796|        -73.95431|        40.78315|              1| 0.029095348|          3|         71114|        0|2011|    1| 0.3548387096774194|      1|\n",
      "|        7.7|2011-01-03 13:16:02|        -73.9778|       40.74228|       -73.998634|       40.734917|              1| 0.022098375|          2|         47762|        0|2011|    1| 0.0967741935483871|      1|\n",
      "|      57.33|2013-01-29 14:35:36|       -74.00303|      40.747368|        -73.78937|       40.654743|              2|  0.23287429|          3|         52536|        1|2013|    1| 0.9354838709677419|      1|\n",
      "|        7.5|2013-01-21 22:33:38|      -73.964645|      40.760117|        -73.98311|       40.734978|              1| 0.031190533|          2|         81218|        0|2013|    1| 0.6774193548387096|      1|\n",
      "|        9.7|2010-01-14 15:30:42|       -73.96983|      40.757874|       -73.991295|        40.75013|              1| 0.022815837|          5|         55842|        0|2010|    1|0.45161290322580644|      1|\n",
      "|        3.7|2010-01-28 23:06:05|      -73.990974|       40.72383|        -73.98589|        40.72693|              1|0.0059508886|          5|         83165|        0|2010|    1| 0.9032258064516129|      1|\n",
      "|        4.5|2011-01-17 20:49:00|      -74.002266|       40.72671|        -74.00374|        40.72248|              5| 0.004479431|          2|         74940|        0|2011|    1| 0.5483870967741935|      1|\n",
      "|        4.9|2012-01-24 19:46:00|       -73.98645|       40.75191|        -73.98438|       40.760754|              1| 0.009080973|          3|         71160|        0|2012|    1| 0.7741935483870968|      1|\n",
      "|        7.7|2012-01-18 13:19:00|       -73.95225|       40.76903|       -73.975746|        40.75233|              1| 0.028828736|          4|         47940|        0|2012|    1| 0.5806451612903226|      1|\n",
      "|       20.0|2013-01-08 00:13:00|       -73.99183|      40.735313|         -73.9524|        40.79915|              1|  0.07503032|          3|           780|        1|2013|    1|0.25806451612903225|      1|\n",
      "|        5.5|2013-01-10 17:10:32|       -73.96161|       40.77158|       -73.954865|        40.77789|              1| 0.009235618|          5|         61832|        0|2013|    1| 0.3225806451612903|      1|\n",
      "|        6.5|2014-01-18 17:01:00|       -73.99293|       40.75801|         -74.0056|        40.73947|              1| 0.022456642|          7|         61260|        0|2014|    1| 0.5806451612903226|      1|\n",
      "|        9.5|2015-01-24 17:42:18|       -74.00079|      40.716717|        -74.01393|        40.71532|              5| 0.013211796|          7|         63738|        0|2015|    1| 0.7741935483870968|      1|\n",
      "|        7.7|2012-01-03 01:39:17|      -73.996216|      40.742603|         -73.9973|       40.763718|              1| 0.021142125|          3|          5957|        0|2012|    1| 0.0967741935483871|      1|\n",
      "|       13.5|2013-01-27 15:42:56|       -73.98968|       40.74156|        -73.97103|       40.751522|              1| 0.021139711|          1|         56576|        1|2013|    1| 0.8709677419354839|      1|\n",
      "|       10.5|2014-01-21 17:58:29|       -73.96529|      40.775135|        -73.98337|       40.758884|              1| 0.024311086|          3|         64709|        1|2014|    1| 0.6774193548387096|      1|\n",
      "|       25.5|2015-01-17 20:31:04|       -73.95599|       40.76384|        -73.91965|        40.70028|              1| 0.073218845|          7|         73864|        1|2015|    1| 0.5483870967741935|      1|\n",
      "+-----------+-------------------+----------------+---------------+-----------------+----------------+---------------+------------+-----------+--------------+---------+----+-----+-------------------+-------+\n",
      "only showing top 20 rows\n",
      "\n",
      "Wall time: 0:00:41.261846\n"
     ]
    }
   ],
   "source": [
    "import time\n",
    "import datetime\n",
    "startTime = time.time()\n",
    "# Calculating the distance between the pickup and dropoff\n",
    "from pyspark.sql.functions import udf\n",
    "import pyspark.sql.functions as F\n",
    "\n",
    "\n",
    "def add_cols(data, high_fare=True):\n",
    "    udf_func = udf(getEuclidean_distance,FloatType()) # Creating a 'User Defined Function' to calculate distance between two points.\n",
    "    data = data.withColumn(\"distance\", udf_func(data.pickup_latitude, data.pickup_longitude, \\\n",
    "                                         data.dropoff_latitude, data.dropoff_longitude))\n",
    "\n",
    "    #Converting the dates to week days\n",
    "    from pyspark.sql.functions import dayofweek\n",
    "    data = data.withColumn(\"day_of_week\", dayofweek(data.pickup_datetime))\n",
    "\n",
    "    #Converting hour timestap to seconds\n",
    "    from pyspark.sql.functions import col, second, minute, hour\n",
    "    data = data.withColumn(\"numerical_time\", (hour(col('pickup_datetime'))*3600 + minute(col('pickup_datetime'))*60 + second(col('pickup_datetime'))))\n",
    "\n",
    "    #Adding the high fare column\n",
    "    if high_fare is True:\n",
    "        data = data.withColumn(\"high_fare\", F.when(F.col('fare_amount') >= 10, 1).otherwise(0))\n",
    "\n",
    "    # Add year column\n",
    "    from pyspark.sql.functions import year\n",
    "    data = data.withColumn(\"year\", year(data.pickup_datetime))\n",
    "\n",
    "    # Add month column\n",
    "    from pyspark.sql.functions import month\n",
    "    data = data.withColumn(\"month\", month(data.pickup_datetime))\n",
    "\n",
    "    # Add month completion progress value (float 0-1)\n",
    "    from pyspark.sql.functions import dayofmonth, last_day\n",
    "    data = data.withColumn(\"month_completion\", dayofmonth(data.pickup_datetime) / dayofmonth(last_day(data.pickup_datetime)))\n",
    "    \n",
    "    data = data.withColumn(\"isInBox\", F.when(select_within_boundingbox(data), 1).otherwise(0))\n",
    "    return data\n",
    "\n",
    "data = add_cols(data) # Adding all cols for features\n",
    "data.show()\n",
    "print(\"Wall time:\", datetime.timedelta(seconds=(time.time() - startTime)))"
   ]
  },
  {
   "cell_type": "markdown",
   "metadata": {},
   "source": [
    "### Imputing the train data. negative and out_of_bounds"
   ]
  },
  {
   "cell_type": "code",
   "execution_count": 7,
   "metadata": {},
   "outputs": [
    {
     "name": "stdout",
     "output_type": "stream",
     "text": [
      "Wall time: 0:00:35.041958\n"
     ]
    }
   ],
   "source": [
    "import time\n",
    "import datetime\n",
    "startTime = time.time()\n",
    "from pyspark.sql.functions import udf\n",
    "import pyspark.sql.functions as F\n",
    "\n",
    "data = data.withColumn(\"distance\", F.when(data[\"distance\"] > 5, 0).otherwise(data[\"distance\"])) # Make all outlier distance zero so we can later impute them\n",
    "\n",
    "data = data.withColumn(\"passenger_count\", F.when((data[\"passenger_count\"] <= 0) | (data[\"passenger_count\"] > 30) , \\\n",
    "                                                 0).otherwise(data[\"passenger_count\"])) \n",
    "data = data.withColumn(\"fare_amount\", F.when((data[\"fare_amount\"] <= 0) | (data[\"fare_amount\"] > 500) , \\\n",
    "                                                 0).otherwise(data[\"fare_amount\"])) \n",
    "\n",
    "data = data.withColumn(\"pickup_longitude\", F.when(data[\"isInBox\"] == 1, data['pickup_longitude']).otherwise(0))\n",
    "\n",
    "data = data.withColumn(\"dropoff_longitude\", F.when(data[\"isInBox\"] == 1, data['dropoff_longitude']).otherwise(0))\n",
    "\n",
    "data = data.withColumn(\"pickup_latitude\", F.when(data[\"isInBox\"] == 1, data['pickup_latitude']).otherwise(0))\n",
    "\n",
    "data = data.withColumn(\"dropoff_latitude\", F.when(data[\"isInBox\"] == 1, data['dropoff_latitude']).otherwise(0))\n",
    "\n",
    "imputeList = ['distance','fare_amount','pickup_longitude','dropoff_longitude','pickup_latitude','dropoff_latitude']\n",
    "data = data.drop(data.isInBox)\n",
    "\n",
    "from pyspark.ml.feature import Imputer\n",
    "imputer = Imputer(strategy='mean', missingValue=0, inputCols=imputeList, outputCols=imputeList) # Imputer for the distance\n",
    "imputer_model = imputer.fit(data)\n",
    "data = imputer_model.transform(data)\n",
    "\n",
    "data = data.withColumn(\"passenger_count\", data[\"passenger_count\"].cast(FloatType()))\n",
    "imputer = Imputer(strategy='median', missingValue=0, inputCols=['passenger_count'], outputCols=['passenger_count']) # Imputer for passenger_count\n",
    "imputer_model = imputer.fit(data)\n",
    "data = imputer_model.transform(data)\n",
    "data = data.withColumn(\"passenger_count\", data[\"passenger_count\"].cast(ByteType()))\n",
    "print(\"Wall time:\", datetime.timedelta(seconds=(time.time() - startTime)))\n"
   ]
  },
  {
   "cell_type": "markdown",
   "metadata": {},
   "source": [
    "# Creating the ML model"
   ]
  },
  {
   "cell_type": "markdown",
   "metadata": {},
   "source": [
    "## Create the Features Vector\n",
    "### Spark ML expects data to be represented in two columns: a features vector and a label column (in this case high_fare)"
   ]
  },
  {
   "cell_type": "code",
   "execution_count": null,
   "metadata": {},
   "outputs": [],
   "source": [
    "from pyspark.ml.feature import VectorAssembler\n",
    "newListOfFeatures = ['pickup_longitude','pickup_latitude','dropoff_longitude','dropoff_latitude','passenger_count', 'distance', 'day_of_week', 'numerical_time', 'month_completion', 'month', 'year']\n",
    "assembler = VectorAssembler(inputCols=newListOfFeatures, outputCol='features')\n",
    "model_data = assembler.transform(data).select(['features', 'high_fare'])"
   ]
  },
  {
   "cell_type": "code",
   "execution_count": 10,
   "metadata": {},
   "outputs": [
    {
     "name": "stdout",
     "output_type": "stream",
     "text": [
      "+--------------------+---------+\n",
      "|            features|high_fare|\n",
      "+--------------------+---------+\n",
      "|[-73.965393066406...|        0|\n",
      "|[-73.967353820800...|        1|\n",
      "|[-73.968841552734...|        0|\n",
      "|[-73.982177734375...|        0|\n",
      "|[-73.977798461914...|        0|\n",
      "|[-74.003028869628...|        1|\n",
      "|[-73.964645385742...|        0|\n",
      "|[-73.969833374023...|        0|\n",
      "|[-73.990974426269...|        0|\n",
      "|[-74.002265930175...|        0|\n",
      "+--------------------+---------+\n",
      "only showing top 10 rows\n"
     ]
    }
   ],
   "source": [
    "model_data.show(10)"
   ]
  },
  {
   "cell_type": "markdown",
   "metadata": {},
   "source": [
    "## Split the data into training and test sets (20% held out for testing)\n",
    "### Train in the traing set, and evaluate on both the training and test sets"
   ]
  },
  {
   "cell_type": "code",
   "execution_count": null,
   "metadata": {},
   "outputs": [],
   "source": [
    "(trainingData, testData) = model_data.randomSplit([0.8, 0.2])"
   ]
  },
  {
   "cell_type": "markdown",
   "metadata": {},
   "source": [
    "## Normalizing the Data"
   ]
  },
  {
   "cell_type": "code",
   "execution_count": 11,
   "metadata": {},
   "outputs": [
    {
     "name": "stdout",
     "output_type": "stream",
     "text": [
      "Wall time: 0:01:22.794939\n"
     ]
    }
   ],
   "source": [
    "import time\n",
    "import datetime\n",
    "startTime = time.time()\n",
    "from pyspark.ml.feature import StandardScaler\n",
    "\n",
    "## scale\n",
    "\n",
    "scaler = StandardScaler(withMean=True, withStd=True).setInputCol(\"features\").setOutputCol(\"scaled_features\") \n",
    "scaler_model=scaler.fit(trainingData)\n",
    "trainingData=scaler_model.transform(trainingData).select(['scaled_features','high_fare'])\n",
    "\n",
    "## Scale the testData\n",
    "testData=scaler_model.transform(testData).select(['scaled_features','high_fare'])\n",
    "print(\"Wall time:\", datetime.timedelta(seconds=(time.time() - startTime)))"
   ]
  },
  {
   "cell_type": "markdown",
   "metadata": {},
   "source": [
    "## Training the Model"
   ]
  },
  {
   "cell_type": "markdown",
   "metadata": {},
   "source": [
    "### Using Logistic Regression Classifier"
   ]
  },
  {
   "cell_type": "code",
   "execution_count": 12,
   "metadata": {},
   "outputs": [
    {
     "name": "stdout",
     "output_type": "stream",
     "text": [
      "Done with the training\n",
      "Wall time: 0:01:03.915629\n"
     ]
    }
   ],
   "source": [
    "import time\n",
    "import datetime\n",
    "startTime = time.time()\n",
    "from pyspark.ml.classification import LogisticRegression\n",
    "algo = LogisticRegression(featuresCol='scaled_features', labelCol='high_fare', maxIter=1000, regParam=0.1, elasticNetParam=0.1)\n",
    "lrModel = algo.fit(trainingData)\n",
    "print(\"Done with the training\")\n",
    "\n",
    "### Generating Predictions\n",
    "predictions = lrModel.transform(trainingData)\n",
    "print(\"Wall time:\", datetime.timedelta(seconds=(time.time() - startTime)))"
   ]
  },
  {
   "cell_type": "markdown",
   "metadata": {},
   "source": [
    "## Model Evaluation\n",
    "### Use a BinaryClassificationEvaluator with the area under ROC curve (AUC) metric"
   ]
  },
  {
   "cell_type": "code",
   "execution_count": null,
   "metadata": {},
   "outputs": [],
   "source": [
    "from pyspark.ml.evaluation import BinaryClassificationEvaluator\n",
    "evaluator = BinaryClassificationEvaluator(labelCol='high_fare', metricName='areaUnderROC')"
   ]
  },
  {
   "cell_type": "code",
   "execution_count": 13,
   "metadata": {},
   "outputs": [
    {
     "name": "stdout",
     "output_type": "stream",
     "text": [
      "Train: 0.9202653487951423\n",
      "Validation: 0.9203654212253472\n",
      "Wall time: 0:02:10.128953\n",
      "\n"
     ]
    }
   ],
   "source": [
    "import time\n",
    "import datetime\n",
    "startTime = time.time()\n",
    "print(\"Train:\", evaluator.evaluate(predictions))\n",
    "# Evaluate on test data\n",
    "test_predictions = lrModel.transform(testData)\n",
    "print(\"Validation:\", evaluator.evaluate(test_predictions))\n",
    "print(\"Wall time:\", datetime.timedelta(seconds=(time.time() - startTime)))"
   ]
  },
  {
   "cell_type": "markdown",
   "metadata": {},
   "source": [
    "## Evaluate the model using MultiClassMetrics"
   ]
  },
  {
   "cell_type": "code",
   "execution_count": null,
   "metadata": {},
   "outputs": [],
   "source": [
    "from pyspark.mllib.evaluation import MulticlassMetrics\n",
    "\n",
    "def rddEvaluate(model_data_test, testerModel):\n",
    "    test_preds = testerModel.transform(model_data_test)\n",
    "    predictions = test_preds.withColumn(\"high_fare_real\", test_preds[\"high_fare\"].cast(FloatType()))\n",
    "    predictionAndLabels = predictions.select(\"prediction\", \"high_fare_real\").rdd.map(tuple)\n",
    "    metrics = MulticlassMetrics(predictionAndLabels)\n",
    "    precision = metrics.precision(1.0)\n",
    "    recall = metrics.recall(1.0)\n",
    "    f1Score = metrics.fMeasure(1.0)\n",
    "    print(\"Summary Stats\")\n",
    "    print(\"Binary Evaluator:\", evaluator.evaluate(test_preds))\n",
    "    print(\"Precision = %s\" % precision)\n",
    "    print(\"Recall = %s\" % recall)\n",
    "    print(\"F1Score = %s\" % f1Score)\n",
    "    print(metrics.confusionMatrix().toArray())\n",
    "    print(\"Total wrong = \", test_preds[(test_preds.high_fare != test_preds.prediction)].count())"
   ]
  },
  {
   "cell_type": "markdown",
   "metadata": {},
   "source": [
    "### Using A Decision Tree, with max-depth 2, maxBins = 5"
   ]
  },
  {
   "cell_type": "code",
   "execution_count": 14,
   "metadata": {},
   "outputs": [
    {
     "name": "stdout",
     "output_type": "stream",
     "text": [
      "Train: 0.8435434831274528\n",
      "Validation: 0.843474532896312\n",
      "Wall time: 0:06:13.263548\n"
     ]
    }
   ],
   "source": [
    "import time\n",
    "import datetime\n",
    "startTime = time.time()\n",
    "from pyspark.ml.classification import DecisionTreeClassifier\n",
    "algo = DecisionTreeClassifier(featuresCol='scaled_features', labelCol='high_fare', maxDepth=2, maxBins = 5)\n",
    "dtModel = algo.fit(trainingData)\n",
    "predictions = dtModel.transform(trainingData)\n",
    "# Train on training data\n",
    "print(\"Train:\", evaluator.evaluate(predictions))\n",
    "# Evaluate on test data\n",
    "test_predictions = dtModel.transform(testData)\n",
    "print(\"Validation:\", evaluator.evaluate(test_predictions))\n",
    "print(\"Wall time:\", datetime.timedelta(seconds=(time.time() - startTime)))"
   ]
  },
  {
   "cell_type": "markdown",
   "metadata": {},
   "source": [
    "### Now try RandomForest Classifier with numTrees=35, maxDepth=12"
   ]
  },
  {
   "cell_type": "code",
   "execution_count": 22,
   "metadata": {},
   "outputs": [
    {
     "name": "stdout",
     "output_type": "stream",
     "text": [
      "Train: 0.9452152283876512\n",
      "Validation: 0.9456684254965175\n",
      "Summary Stats\n",
      "Binary Evaluator: 0.9456684254965175\n",
      "Precision = 0.898341462117852\n",
      "Recall = 0.79201343456712\n",
      "F1Score = 0.8432145221218521\n",
      "[[2300512.  139891.]\n",
      " [ 325726. 1233416.]]\n",
      "Total wrong =  465637\n",
      "----------------------\n",
      "\n",
      "Wall time: 0:14:16.158267\n"
     ]
    }
   ],
   "source": [
    "import time\n",
    "import datetime\n",
    "startTime = time.time()\n",
    "from pyspark.ml.classification import RandomForestClassifier\n",
    "# Train on training data\n",
    "\n",
    "algo = RandomForestClassifier(featuresCol='scaled_features', labelCol='high_fare', numTrees=35, maxDepth=12)\n",
    "rfModel = algo.fit(trainingData)\n",
    "train_predictions = rfModel.transform(trainingData)\n",
    "print(\"Train:\", evaluator.evaluate(train_predictions))\n",
    "# Evaluate on test data\n",
    "test_predictions = rfModel.transform(testData)\n",
    "print(\"Validation:\", evaluator.evaluate(test_predictions))\n",
    "rddEvaluate(testData, rfModel)\n",
    "print(\"----------------------\\n\")\n",
    "print(\"Wall time:\", datetime.timedelta(seconds=(time.time() - startTime)))"
   ]
  },
  {
   "cell_type": "markdown",
   "metadata": {},
   "source": [
    "## Now Start Gradient Boosting"
   ]
  },
  {
   "cell_type": "code",
   "execution_count": 16,
   "metadata": {},
   "outputs": [
    {
     "name": "stdout",
     "output_type": "stream",
     "text": [
      "Train: 0.9603564286583531\n",
      "Validation: 0.9603745362118945\n",
      "Summary Stats\n",
      "Binary Evaluator: 0.9603564286583531\n",
      "Precision = 0.9052343753689426\n",
      "Recall = 0.8365740023402894\n",
      "F1Score = 0.869712386495612\n",
      "[[2307007.  135395.]\n",
      " [ 254181. 1303103.]]\n",
      "Total wrong =  390226\n",
      "----------------------\n",
      "\n",
      "Wall time: 0:26:38.781687\n",
      "\n"
     ]
    }
   ],
   "source": [
    "import time\n",
    "import datetime\n",
    "startTime = time.time()\n",
    "from pyspark.ml.classification import GBTClassifier\n",
    "\n",
    "gbt = GBTClassifier(labelCol=\"high_fare\", featuresCol=\"scaled_features\", maxIter=180, stepSize=0.28, maxDepth=6)\n",
    "gbtModel = gbt.fit(trainingData)\n",
    "train_predictions = gbtModel.transform(trainingData)\n",
    "print(\"Train:\", evaluator.evaluate(train_predictions))\n",
    "# Evaluate on test data\n",
    "test_predictions = gbtModel.transform(testData)\n",
    "print(\"Validation:\", evaluator.evaluate(test_predictions))\n",
    "rddEvaluate(testData, gbtModel)\n",
    "print(\"----------------------\\n\")\n",
    "print(\"Wall time:\", datetime.timedelta(seconds=(time.time() - startTime)))"
   ]
  },
  {
   "cell_type": "markdown",
   "metadata": {},
   "source": [
    "### After We Saw Our Model Is Good Using Validation We Now Choose To Train Our Model Using The Entire Dataset"
   ]
  },
  {
   "cell_type": "markdown",
   "metadata": {},
   "source": [
    "## Normalizing the Data"
   ]
  },
  {
   "cell_type": "code",
   "execution_count": 17,
   "metadata": {},
   "outputs": [
    {
     "name": "stdout",
     "output_type": "stream",
     "text": [
      "Wall time: 0:01:33.488693\n"
     ]
    }
   ],
   "source": [
    "import time\n",
    "import datetime\n",
    "startTime = time.time()from pyspark.ml.feature import StandardScaler\n",
    "\n",
    "## scale\n",
    "\n",
    "scaler = StandardScaler(withMean=True, withStd=True).setInputCol(\"features\").setOutputCol(\"scaled_features\") \n",
    "scaler_model=scaler.fit(model_data)\n",
    "trainingData=scaler_model.transform(model_data).select(['scaled_features','high_fare'])\n",
    "print(\"Wall time:\", datetime.timedelta(seconds=(time.time() - startTime)))"
   ]
  },
  {
   "cell_type": "markdown",
   "metadata": {},
   "source": [
    "## Now Start Gradient Boosting With All 20M Rows"
   ]
  },
  {
   "cell_type": "code",
   "execution_count": 18,
   "metadata": {},
   "outputs": [
    {
     "name": "stdout",
     "output_type": "stream",
     "text": [
      "Train: 0.9605673118295325\n",
      "----------------------\n",
      "\n",
      "Wall time: 0:24:43.127354\n"
     ]
    }
   ],
   "source": [
    "import time\n",
    "import datetime\n",
    "startTime = time.time()\n",
    "from pyspark.ml.classification import GBTClassifier\n",
    "\n",
    "gbt = GBTClassifier(labelCol=\"high_fare\", featuresCol=\"scaled_features\", maxIter=180, stepSize=0.28, maxDepth=6)\n",
    "gbtModel = gbt.fit(trainingData)\n",
    "train_predictions = gbtModel.transform(trainingData)\n",
    "print(\"Train:\", evaluator.evaluate(train_predictions))\n",
    "print(\"----------------------\\n\")\n",
    "print(\"Wall time:\", datetime.timedelta(seconds=(time.time() - startTime)))"
   ]
  },
  {
   "cell_type": "markdown",
   "metadata": {},
   "source": [
    "# Now Test The Model With The Test Data"
   ]
  },
  {
   "cell_type": "code",
   "execution_count": 19,
   "metadata": {},
   "outputs": [
    {
     "name": "stdout",
     "output_type": "stream",
     "text": [
      "+--------+-------------------+----------------+---------------+-----------------+----------------+---------------+\n",
      "|     key|    pickup_datetime|pickup_longitude|pickup_latitude|dropoff_longitude|dropoff_latitude|passenger_count|\n",
      "+--------+-------------------+----------------+---------------+-----------------+----------------+---------------+\n",
      "|19990001|2012-05-31 07:04:14|       -73.94636|      40.792088|        -73.96618|       40.764984|              2|\n",
      "|19990002|2015-01-27 20:51:29|       -73.97137|        40.7604|       -73.995346|       40.744392|              6|\n",
      "|19990003|2015-05-18 16:41:16|       -73.96013|       40.76694|        -73.95677|        40.77497|              5|\n",
      "|19990004|2009-05-30 04:13:32|       -73.98996|       40.72943|       -73.994835|       40.743565|              1|\n",
      "|19990005|2010-04-08 07:55:00|       -73.96511|      40.791817|        -73.94468|       40.773884|              1|\n",
      "|19990006|2010-03-05 21:35:06|       -73.98098|       40.75984|        -73.98247|       40.742813|              1|\n",
      "|19990007|2009-04-10 14:04:26|       -73.98992|       40.76732|       -73.993195|       40.749657|              1|\n",
      "|19990008|2009-12-28 16:58:00|             0.0|            0.0|              0.0|             0.0|              1|\n",
      "|19990009|2010-07-22 01:04:05|       -73.96423|       40.77099|        -73.97126|       40.765804|              1|\n",
      "|19990010|2011-07-29 23:17:00|       -73.97981|      40.738976|        -73.98359|        40.72161|              2|\n",
      "|19990011|2015-05-12 17:27:23|       -74.00958|       40.70547|          -73.997|       40.734158|              1|\n",
      "|19990012|2011-10-13 00:07:00|       -73.97613|      40.765427|        -73.96399|        40.79803|              1|\n",
      "|19990013|2011-05-02 21:14:00|       -73.97986|       40.73921|       -73.995834|       40.720974|              1|\n",
      "|19990014|2013-01-28 11:49:29|             0.0|            0.0|              0.0|             0.0|              1|\n",
      "|19990015|2014-01-06 00:31:00|      -74.004036|        40.7133|       -73.966354|       40.690605|              4|\n",
      "|19990016|2010-02-28 22:28:00|       -73.99408|        40.7514|       -73.977905|       40.746494|              1|\n",
      "|19990017|2014-12-18 20:34:59|      -73.960815|      40.769947|       -73.978714|       40.777588|              1|\n",
      "|19990018|2012-09-07 16:09:21|       -73.97951|      40.761196|        -73.96603|       40.765095|              1|\n",
      "|19990019|2013-01-12 23:12:00|      -73.995285|      40.739227|        -73.98354|       40.776005|              2|\n",
      "|19990020|2015-04-08 05:32:31|       -73.95289|        40.8105|        -73.98813|         40.7442|              1|\n",
      "+--------+-------------------+----------------+---------------+-----------------+----------------+---------------+\n",
      "only showing top 20 rows\n"
     ]
    }
   ],
   "source": [
    "schema2 = StructType([\n",
    "    StructField(\"key\", IntegerType()),\n",
    "    StructField(\"pickup_datetime\", TimestampType()), # Will later extract date and time\n",
    "    StructField(\"pickup_longitude\", FloatType()),\n",
    "    StructField(\"pickup_latitude\", FloatType()),\n",
    "    StructField(\"dropoff_longitude\", FloatType()),\n",
    "    StructField(\"dropoff_latitude\", FloatType()),\n",
    "    StructField(\"passenger_count\", ByteType())\n",
    "])\n",
    "\n",
    "\n",
    "afeka_test_data = spark.read.format(\"csv\").option(\"header\", \"true\").schema(schema2).option(\"TimeStampFormat\", \"yyyy-mm-dd hh:mm:ss\").load('s3://aws-emr-resources-744851781915-us-east-1/notebooks/e-8U5X7SIF604TCOKH5BVTVPXF4/afeka_test.csv')\n",
    "afeka_test_data.show()"
   ]
  },
  {
   "cell_type": "markdown",
   "metadata": {},
   "source": [
    "### Adding Features"
   ]
  },
  {
   "cell_type": "code",
   "execution_count": 20,
   "metadata": {},
   "outputs": [
    {
     "name": "stdout",
     "output_type": "stream",
     "text": [
      "+--------+-------------------+----------------+---------------+-----------------+----------------+---------------+-----------+-----------+--------------+----+-----+-------------------+-------+\n",
      "|     key|    pickup_datetime|pickup_longitude|pickup_latitude|dropoff_longitude|dropoff_latitude|passenger_count|   distance|day_of_week|numerical_time|year|month|   month_completion|isInBox|\n",
      "+--------+-------------------+----------------+---------------+-----------------+----------------+---------------+-----------+-----------+--------------+----+-----+-------------------+-------+\n",
      "|19990001|2012-05-31 07:04:14|       -73.94636|      40.792088|        -73.96618|       40.764984|              2| 0.03357788|          5|         25454|2012|    5|                1.0|      1|\n",
      "|19990002|2015-01-27 20:51:29|       -73.97137|        40.7604|       -73.995346|       40.744392|              6|0.028830687|          3|         75089|2015|    1| 0.8709677419354839|      1|\n",
      "|19990003|2015-05-18 16:41:16|       -73.96013|       40.76694|        -73.95677|        40.77497|              5|0.008703385|          2|         60076|2015|    5| 0.5806451612903226|      1|\n",
      "|19990004|2009-05-30 04:13:32|       -73.98996|       40.72943|       -73.994835|       40.743565|              1|0.014950649|          7|         15212|2009|    5|  0.967741935483871|      1|\n",
      "|19990005|2010-04-08 07:55:00|       -73.96511|      40.791817|        -73.94468|       40.773884|              1| 0.02718521|          5|         28500|2010|    4|0.26666666666666666|      1|\n",
      "|19990006|2010-03-05 21:35:06|       -73.98098|       40.75984|        -73.98247|       40.742813|              1|0.017089874|          6|         77706|2010|    3|0.16129032258064516|      1|\n",
      "|19990007|2009-04-10 14:04:26|       -73.98992|       40.76732|       -73.993195|       40.749657|              1|0.017962754|          6|         50666|2009|    4| 0.3333333333333333|      1|\n",
      "|19990008|2009-12-28 16:58:00|             0.0|            0.0|              0.0|             0.0|              1|        0.0|          2|         61080|2009|   12| 0.9032258064516129|      0|\n",
      "|19990009|2010-07-22 01:04:05|       -73.96423|       40.77099|        -73.97126|       40.765804|              1|0.008732112|          5|          3845|2010|    7| 0.7096774193548387|      1|\n",
      "|19990010|2011-07-29 23:17:00|       -73.97981|      40.738976|        -73.98359|        40.72161|              2|0.017770432|          6|         83820|2011|    7| 0.9354838709677419|      1|\n",
      "|19990011|2015-05-12 17:27:23|       -74.00958|       40.70547|          -73.997|       40.734158|              1|0.031324033|          3|         62843|2015|    5| 0.3870967741935484|      1|\n",
      "|19990012|2011-10-13 00:07:00|       -73.97613|      40.765427|        -73.96399|        40.79803|              1|0.034790445|          5|           420|2011|   10|0.41935483870967744|      1|\n",
      "|19990013|2011-05-02 21:14:00|       -73.97986|       40.73921|       -73.995834|       40.720974|              1|0.024242917|          2|         76440|2011|    5|0.06451612903225806|      1|\n",
      "|19990014|2013-01-28 11:49:29|             0.0|            0.0|              0.0|             0.0|              1|        0.0|          2|         42569|2013|    1| 0.9032258064516129|      0|\n",
      "|19990015|2014-01-06 00:31:00|      -74.004036|        40.7133|       -73.966354|       40.690605|              4|0.043987527|          2|          1860|2014|    1| 0.1935483870967742|      1|\n",
      "|19990016|2010-02-28 22:28:00|       -73.99408|        40.7514|       -73.977905|       40.746494|              1|0.016901905|          1|         80880|2010|    2|                1.0|      1|\n",
      "|19990017|2014-12-18 20:34:59|      -73.960815|      40.769947|       -73.978714|       40.777588|              1|0.019461265|          5|         74099|2014|   12| 0.5806451612903226|      1|\n",
      "|19990018|2012-09-07 16:09:21|       -73.97951|      40.761196|        -73.96603|       40.765095|              1|0.014033545|          6|         58161|2012|    9|0.23333333333333334|      1|\n",
      "|19990019|2013-01-12 23:12:00|      -73.995285|      40.739227|        -73.98354|       40.776005|              2| 0.03860635|          7|         83520|2013|    1| 0.3870967741935484|      1|\n",
      "|19990020|2015-04-08 05:32:31|       -73.95289|        40.8105|        -73.98813|         40.7442|              1| 0.07508319|          4|         19951|2015|    4|0.26666666666666666|      1|\n",
      "+--------+-------------------+----------------+---------------+-----------------+----------------+---------------+-----------+-----------+--------------+----+-----+-------------------+-------+\n",
      "only showing top 20 rows\n"
     ]
    }
   ],
   "source": [
    "model_data_test = add_cols(afeka_test_data, False)\n",
    "model_data_test.show()"
   ]
  },
  {
   "cell_type": "markdown",
   "metadata": {},
   "source": [
    "## Impute the afeka_test data"
   ]
  },
  {
   "cell_type": "markdown",
   "metadata": {},
   "source": [
    "### Performing the Imputation"
   ]
  },
  {
   "cell_type": "code",
   "execution_count": 21,
   "metadata": {},
   "outputs": [
    {
     "name": "stdout",
     "output_type": "stream",
     "text": [
      "+--------+-------------------+----------------+---------------+-----------------+----------------+---------------+-----------+-----------+--------------+----+-----+-------------------+-------+\n",
      "|     key|    pickup_datetime|pickup_longitude|pickup_latitude|dropoff_longitude|dropoff_latitude|passenger_count|   distance|day_of_week|numerical_time|year|month|   month_completion|isInBox|\n",
      "+--------+-------------------+----------------+---------------+-----------------+----------------+---------------+-----------+-----------+--------------+----+-----+-------------------+-------+\n",
      "|19990001|2012-05-31 07:04:14|       -73.94636|      40.792088|        -73.96618|       40.764984|              2| 0.03357788|          5|         25454|2012|    5|                1.0|      1|\n",
      "|19990002|2015-01-27 20:51:29|       -73.97137|        40.7604|       -73.995346|       40.744392|              6|0.028830687|          3|         75089|2015|    1| 0.8709677419354839|      1|\n",
      "|19990003|2015-05-18 16:41:16|       -73.96013|       40.76694|        -73.95677|        40.77497|              5|0.008703385|          2|         60076|2015|    5| 0.5806451612903226|      1|\n",
      "|19990004|2009-05-30 04:13:32|       -73.98996|       40.72943|       -73.994835|       40.743565|              1|0.014950649|          7|         15212|2009|    5|  0.967741935483871|      1|\n",
      "|19990005|2010-04-08 07:55:00|       -73.96511|      40.791817|        -73.94468|       40.773884|              1| 0.02718521|          5|         28500|2010|    4|0.26666666666666666|      1|\n",
      "|19990006|2010-03-05 21:35:06|       -73.98098|       40.75984|        -73.98247|       40.742813|              1|0.017089874|          6|         77706|2010|    3|0.16129032258064516|      1|\n",
      "|19990007|2009-04-10 14:04:26|       -73.98992|       40.76732|       -73.993195|       40.749657|              1|0.017962754|          6|         50666|2009|    4| 0.3333333333333333|      1|\n",
      "|19990008|2009-12-28 16:58:00|       -73.97533|       40.75082|        -73.97432|        40.75188|              1|0.034898452|          2|         61080|2009|   12| 0.9032258064516129|      0|\n",
      "|19990009|2010-07-22 01:04:05|       -73.96423|       40.77099|        -73.97126|       40.765804|              1|0.008732112|          5|          3845|2010|    7| 0.7096774193548387|      1|\n",
      "|19990010|2011-07-29 23:17:00|       -73.97981|      40.738976|        -73.98359|        40.72161|              2|0.017770432|          6|         83820|2011|    7| 0.9354838709677419|      1|\n",
      "|19990011|2015-05-12 17:27:23|       -74.00958|       40.70547|          -73.997|       40.734158|              1|0.031324033|          3|         62843|2015|    5| 0.3870967741935484|      1|\n",
      "|19990012|2011-10-13 00:07:00|       -73.97613|      40.765427|        -73.96399|        40.79803|              1|0.034790445|          5|           420|2011|   10|0.41935483870967744|      1|\n",
      "|19990013|2011-05-02 21:14:00|       -73.97986|       40.73921|       -73.995834|       40.720974|              1|0.024242917|          2|         76440|2011|    5|0.06451612903225806|      1|\n",
      "|19990014|2013-01-28 11:49:29|       -73.97533|       40.75082|        -73.97432|        40.75188|              1|0.034898452|          2|         42569|2013|    1| 0.9032258064516129|      0|\n",
      "|19990015|2014-01-06 00:31:00|      -74.004036|        40.7133|       -73.966354|       40.690605|              4|0.043987527|          2|          1860|2014|    1| 0.1935483870967742|      1|\n",
      "|19990016|2010-02-28 22:28:00|       -73.99408|        40.7514|       -73.977905|       40.746494|              1|0.016901905|          1|         80880|2010|    2|                1.0|      1|\n",
      "|19990017|2014-12-18 20:34:59|      -73.960815|      40.769947|       -73.978714|       40.777588|              1|0.019461265|          5|         74099|2014|   12| 0.5806451612903226|      1|\n",
      "|19990018|2012-09-07 16:09:21|       -73.97951|      40.761196|        -73.96603|       40.765095|              1|0.014033545|          6|         58161|2012|    9|0.23333333333333334|      1|\n",
      "|19990019|2013-01-12 23:12:00|      -73.995285|      40.739227|        -73.98354|       40.776005|              2| 0.03860635|          7|         83520|2013|    1| 0.3870967741935484|      1|\n",
      "|19990020|2015-04-08 05:32:31|       -73.95289|        40.8105|        -73.98813|         40.7442|              1| 0.07508319|          4|         19951|2015|    4|0.26666666666666666|      1|\n",
      "+--------+-------------------+----------------+---------------+-----------------+----------------+---------------+-----------+-----------+--------------+----+-----+-------------------+-------+\n",
      "only showing top 20 rows\n"
     ]
    }
   ],
   "source": [
    "from pyspark.ml.feature import Imputer\n",
    "import pyspark.sql.functions as F\n",
    "\n",
    "### Replacing high distance values with zeros for imputation\n",
    "model_data_test = model_data_test.withColumn(\"distance\", \\\n",
    "              F.when(model_data_test[\"distance\"] > 5, 0).otherwise(model_data_test[\"distance\"]))\n",
    "\n",
    "model_data_test = model_data_test.withColumn(\"passenger_count\", model_data_test[\"passenger_count\"].cast(FloatType()))\n",
    "imputer = Imputer(strategy='median', missingValue=0, inputCols=['passenger_count'], outputCols=['passenger_count']) # Imputer for passenger_count\n",
    "imputer_model = imputer.fit(model_data_test)\n",
    "model_data_test = imputer_model.transform(model_data_test)\n",
    "model_data_test = model_data_test.withColumn(\"passenger_count\", model_data_test[\"passenger_count\"].cast(ByteType()))\n",
    "\n",
    "model_data_test = model_data_test.withColumn(\"pickup_longitude\", F.when(select_within_boundingbox(model_data_test), model_data_test['pickup_longitude']).otherwise(0))\n",
    "\n",
    "model_data_test = model_data_test.withColumn(\"dropoff_longitude\", F.when(select_within_boundingbox(model_data_test), model_data_test['dropoff_longitude']).otherwise(0))\n",
    "\n",
    "model_data_test = model_data_test.withColumn(\"pickup_latitude\", F.when(select_within_boundingbox(model_data_test), model_data_test['pickup_latitude']).otherwise(0))\n",
    "\n",
    "model_data_test = model_data_test.withColumn(\"dropoff_latitude\", F.when(select_within_boundingbox(model_data_test), model_data_test['dropoff_latitude']).otherwise(0))\n",
    "\n",
    "\n",
    "imputer = Imputer(strategy='mean', missingValue=0, inputCols=['distance','pickup_longitude','dropoff_longitude','pickup_latitude','dropoff_latitude'], outputCols=['distance','pickup_longitude','dropoff_longitude','pickup_latitude','dropoff_latitude']) # Imputer for the distance\n",
    "imputer_model = imputer.fit(model_data_test)\n",
    "model_data_test = imputer_model.transform(model_data_test)\n",
    "\n",
    "model_data_test.show(20)"
   ]
  },
  {
   "cell_type": "markdown",
   "metadata": {},
   "source": [
    "### Vectorize Features"
   ]
  },
  {
   "cell_type": "code",
   "execution_count": null,
   "metadata": {},
   "outputs": [],
   "source": [
    "from pyspark.ml.feature import VectorAssembler\n",
    "assembler = VectorAssembler(inputCols=newListOfFeatures, outputCol='features')\n",
    "model_data_test = assembler.transform(model_data_test)'''"
   ]
  },
  {
   "cell_type": "markdown",
   "metadata": {},
   "source": [
    "## Normalizing the afeka_test"
   ]
  },
  {
   "cell_type": "code",
   "execution_count": null,
   "metadata": {},
   "outputs": [],
   "source": [
    "from pyspark.ml.feature import StandardScaler\n",
    "scaler_df=scaler_model.transform(model_data_test)\n",
    "scaler_df.select(\"features\",\"scaled_features\").head(5) \n",
    "model_data_test = scaler_df"
   ]
  }
 ],
 "metadata": {
  "kernelspec": {
   "display_name": "Python 3",
   "language": "python",
   "name": "python3"
  },
  "language_info": {
   "codemirror_mode": {
    "name": "ipython",
    "version": 3
   },
   "file_extension": ".py",
   "mimetype": "text/x-python",
   "name": "python",
   "nbconvert_exporter": "python",
   "pygments_lexer": "ipython3",
   "version": "3.8.2"
  }
 },
 "nbformat": 4,
 "nbformat_minor": 4
}
